{
 "cells": [
  {
   "cell_type": "markdown",
   "id": "8eeef64f",
   "metadata": {},
   "source": [
    "# IBM stance detection with only arguments"
   ]
  },
  {
   "cell_type": "markdown",
   "id": "71fdf301",
   "metadata": {},
   "source": [
    "Stance detection of the IBM datasets using only arguments as input to train the model, without considering the main topic of each one"
   ]
  },
  {
   "cell_type": "code",
   "execution_count": 1,
   "id": "003c7b7d",
   "metadata": {
    "ExecuteTime": {
     "end_time": "2023-03-27T16:58:35.787115Z",
     "start_time": "2023-03-27T16:58:31.240657Z"
    }
   },
   "outputs": [],
   "source": [
    "import pandas as pd\n",
    "import matplotlib.pyplot as plt\n",
    "import numpy as np\n",
    "import nltk\n",
    "from nltk.tokenize import word_tokenize\n",
    "from nltk.corpus import stopwords\n",
    "from nltk.tokenize import RegexpTokenizer\n",
    "from nltk.stem import WordNetLemmatizer\n",
    "from nltk.stem.porter import PorterStemmer\n",
    "from autocorrect import Speller\n",
    "from sklearn.naive_bayes import MultinomialNB\n",
    "from sklearn.svm import SVC\n",
    "from sklearn.feature_extraction.text import TfidfVectorizer, CountVectorizer\n",
    "from sklearn.metrics import confusion_matrix, ConfusionMatrixDisplay, classification_report\n",
    "from sklearn.pipeline import Pipeline\n",
    "from sklearn.model_selection import train_test_split, cross_validate, GridSearchCV\n",
    "from sklearn.preprocessing import LabelBinarizer, OneHotEncoder"
   ]
  },
  {
   "cell_type": "code",
   "execution_count": 2,
   "id": "7d28b7f3",
   "metadata": {
    "ExecuteTime": {
     "end_time": "2023-03-27T16:58:35.826822Z",
     "start_time": "2023-03-27T16:58:35.808764Z"
    }
   },
   "outputs": [],
   "source": [
    "#nltk.download('punkt')\n",
    "#nltk.download('stopwords')\n",
    "#nltk.download('wordnet')\n",
    "#nltk.download('omw-1.4')"
   ]
  },
  {
   "cell_type": "markdown",
   "id": "652fb926",
   "metadata": {},
   "source": [
    "## 1. Import datasets"
   ]
  },
  {
   "cell_type": "code",
   "execution_count": 3,
   "id": "3437a8ef",
   "metadata": {
    "ExecuteTime": {
     "end_time": "2023-03-27T16:58:35.853541Z",
     "start_time": "2023-03-27T16:58:35.841878Z"
    }
   },
   "outputs": [],
   "source": [
    "train_path = '../data/ibm/ibm_train.csv'\n",
    "test_path = '../data/ibm/ibm_test.csv'\n",
    "\n",
    "plots_path = '../plots/ibm/'\n",
    "models_path = '../models/ibm/'"
   ]
  },
  {
   "cell_type": "markdown",
   "id": "f9691330",
   "metadata": {},
   "source": [
    "### Training set"
   ]
  },
  {
   "cell_type": "code",
   "execution_count": 4,
   "id": "aae18400",
   "metadata": {
    "ExecuteTime": {
     "end_time": "2023-03-27T16:58:35.902288Z",
     "start_time": "2023-03-27T16:58:35.882071Z"
    }
   },
   "outputs": [],
   "source": [
    "train = pd.read_csv(train_path) "
   ]
  },
  {
   "cell_type": "code",
   "execution_count": 5,
   "id": "e29155d8",
   "metadata": {
    "ExecuteTime": {
     "end_time": "2023-03-27T16:58:35.928987Z",
     "start_time": "2023-03-27T16:58:35.906516Z"
    }
   },
   "outputs": [
    {
     "data": {
      "text/html": [
       "<div>\n",
       "<style scoped>\n",
       "    .dataframe tbody tr th:only-of-type {\n",
       "        vertical-align: middle;\n",
       "    }\n",
       "\n",
       "    .dataframe tbody tr th {\n",
       "        vertical-align: top;\n",
       "    }\n",
       "\n",
       "    .dataframe thead th {\n",
       "        text-align: right;\n",
       "    }\n",
       "</style>\n",
       "<table border=\"1\" class=\"dataframe\">\n",
       "  <thead>\n",
       "    <tr style=\"text-align: right;\">\n",
       "      <th></th>\n",
       "      <th>topic</th>\n",
       "      <th>stance</th>\n",
       "      <th>argument</th>\n",
       "      <th>argument_sentiment</th>\n",
       "    </tr>\n",
       "  </thead>\n",
       "  <tbody>\n",
       "    <tr>\n",
       "      <th>0</th>\n",
       "      <td>atheism</td>\n",
       "      <td>CON</td>\n",
       "      <td>the most immoral acts in human history were pe...</td>\n",
       "      <td>-1.0</td>\n",
       "    </tr>\n",
       "    <tr>\n",
       "      <th>1</th>\n",
       "      <td>partial birth abortions</td>\n",
       "      <td>PRO</td>\n",
       "      <td>Abortion is considered to be morally wrong</td>\n",
       "      <td>-1.0</td>\n",
       "    </tr>\n",
       "    <tr>\n",
       "      <th>2</th>\n",
       "      <td>the monarchy</td>\n",
       "      <td>PRO</td>\n",
       "      <td>The laws of succession are held by some to be ...</td>\n",
       "      <td>-1.0</td>\n",
       "    </tr>\n",
       "    <tr>\n",
       "      <th>3</th>\n",
       "      <td>endangered species</td>\n",
       "      <td>PRO</td>\n",
       "      <td>More biologically diverse communities appear t...</td>\n",
       "      <td>1.0</td>\n",
       "    </tr>\n",
       "    <tr>\n",
       "      <th>4</th>\n",
       "      <td>the sale of violent video games to minors</td>\n",
       "      <td>PRO</td>\n",
       "      <td>Various games are accused of causing addiction...</td>\n",
       "      <td>-1.0</td>\n",
       "    </tr>\n",
       "  </tbody>\n",
       "</table>\n",
       "</div>"
      ],
      "text/plain": [
       "                                       topic stance  \\\n",
       "0                                    atheism    CON   \n",
       "1                    partial birth abortions    PRO   \n",
       "2                               the monarchy    PRO   \n",
       "3                         endangered species    PRO   \n",
       "4  the sale of violent video games to minors    PRO   \n",
       "\n",
       "                                            argument  argument_sentiment  \n",
       "0  the most immoral acts in human history were pe...                -1.0  \n",
       "1         Abortion is considered to be morally wrong                -1.0  \n",
       "2  The laws of succession are held by some to be ...                -1.0  \n",
       "3  More biologically diverse communities appear t...                 1.0  \n",
       "4  Various games are accused of causing addiction...                -1.0  "
      ]
     },
     "execution_count": 5,
     "metadata": {},
     "output_type": "execute_result"
    }
   ],
   "source": [
    "train.head()"
   ]
  },
  {
   "cell_type": "code",
   "execution_count": 6,
   "id": "ec8ad0c2",
   "metadata": {
    "ExecuteTime": {
     "end_time": "2023-03-27T16:58:35.940317Z",
     "start_time": "2023-03-27T16:58:35.932100Z"
    }
   },
   "outputs": [
    {
     "data": {
      "text/plain": [
       "25"
      ]
     },
     "execution_count": 6,
     "metadata": {},
     "output_type": "execute_result"
    }
   ],
   "source": [
    "train['topic'].nunique()"
   ]
  },
  {
   "cell_type": "code",
   "execution_count": 7,
   "id": "86a79fd7",
   "metadata": {
    "ExecuteTime": {
     "end_time": "2023-03-27T16:58:37.135320Z",
     "start_time": "2023-03-27T16:58:35.943697Z"
    },
    "scrolled": true
   },
   "outputs": [
    {
     "data": {
      "image/png": "[encoded data removed]",
      "text/plain": [
       "<Figure size 720x288 with 1 Axes>"
      ]
     },
     "metadata": {
      "needs_background": "light"
     },
     "output_type": "display_data"
    }
   ],
   "source": [
    "train_stats = train.groupby(by=['topic', 'stance']).agg({'argument': 'count'}).reset_index()\n",
    "train_stats.pivot(index='topic', columns='stance', values='argument').rename(columns={-1: 'cons', 1: 'pros'}).plot(kind='bar', figsize=(10,4))\n",
    "plt.title('Arguments pros/cons for each topic (training set)')\n",
    "plt.ylabel('#arguments')\n",
    "plt.xlabel('Topics')\n",
    "plt.xticks(fontsize=10, rotation=90)\n",
    "plt.legend(loc='upper right')\n",
    "plt.savefig(plots_path+'ibm_train_topic_stats.png', bbox_inches =\"tight\")\n",
    "plt.show()"
   ]
  },
  {
   "cell_type": "markdown",
   "id": "ca1541ca",
   "metadata": {},
   "source": [
    "### Test set"
   ]
  },
  {
   "cell_type": "code",
   "execution_count": 8,
   "id": "44b867c0",
   "metadata": {
    "ExecuteTime": {
     "end_time": "2023-03-27T16:58:37.164469Z",
     "start_time": "2023-03-27T16:58:37.140474Z"
    }
   },
   "outputs": [],
   "source": [
    "test = pd.read_csv(test_path) "
   ]
  },
  {
   "cell_type": "code",
   "execution_count": 9,
   "id": "3a3d28d3",
   "metadata": {
    "ExecuteTime": {
     "end_time": "2023-03-27T16:58:37.190482Z",
     "start_time": "2023-03-27T16:58:37.169275Z"
    }
   },
   "outputs": [
    {
     "data": {
      "text/html": [
       "<div>\n",
       "<style scoped>\n",
       "    .dataframe tbody tr th:only-of-type {\n",
       "        vertical-align: middle;\n",
       "    }\n",
       "\n",
       "    .dataframe tbody tr th {\n",
       "        vertical-align: top;\n",
       "    }\n",
       "\n",
       "    .dataframe thead th {\n",
       "        text-align: right;\n",
       "    }\n",
       "</style>\n",
       "<table border=\"1\" class=\"dataframe\">\n",
       "  <thead>\n",
       "    <tr style=\"text-align: right;\">\n",
       "      <th></th>\n",
       "      <th>topic</th>\n",
       "      <th>stance</th>\n",
       "      <th>argument</th>\n",
       "      <th>argument_sentiment</th>\n",
       "    </tr>\n",
       "  </thead>\n",
       "  <tbody>\n",
       "    <tr>\n",
       "      <th>0</th>\n",
       "      <td>intellectual property rights</td>\n",
       "      <td>PRO</td>\n",
       "      <td>knowledge should be \"shared in solidarity</td>\n",
       "      <td>NaN</td>\n",
       "    </tr>\n",
       "    <tr>\n",
       "      <th>1</th>\n",
       "      <td>atheism</td>\n",
       "      <td>PRO</td>\n",
       "      <td>faith − belief that is not based on evidence −...</td>\n",
       "      <td>-1.0</td>\n",
       "    </tr>\n",
       "    <tr>\n",
       "      <th>2</th>\n",
       "      <td>build hydroelectric dams</td>\n",
       "      <td>CON</td>\n",
       "      <td>dam construction requires the state to displac...</td>\n",
       "      <td>-1.0</td>\n",
       "    </tr>\n",
       "    <tr>\n",
       "      <th>3</th>\n",
       "      <td>the one-child policy of the republic of China</td>\n",
       "      <td>CON</td>\n",
       "      <td>China's gender imbalance is further increased ...</td>\n",
       "      <td>-1.0</td>\n",
       "    </tr>\n",
       "    <tr>\n",
       "      <th>4</th>\n",
       "      <td>unleash the free market</td>\n",
       "      <td>CON</td>\n",
       "      <td>laissez-faire capitalism creates social evils ...</td>\n",
       "      <td>-1.0</td>\n",
       "    </tr>\n",
       "  </tbody>\n",
       "</table>\n",
       "</div>"
      ],
      "text/plain": [
       "                                           topic stance  \\\n",
       "0                   intellectual property rights    PRO   \n",
       "1                                        atheism    PRO   \n",
       "2                       build hydroelectric dams    CON   \n",
       "3  the one-child policy of the republic of China    CON   \n",
       "4                        unleash the free market    CON   \n",
       "\n",
       "                                            argument  argument_sentiment  \n",
       "0          knowledge should be \"shared in solidarity                 NaN  \n",
       "1  faith − belief that is not based on evidence −...                -1.0  \n",
       "2  dam construction requires the state to displac...                -1.0  \n",
       "3  China's gender imbalance is further increased ...                -1.0  \n",
       "4  laissez-faire capitalism creates social evils ...                -1.0  "
      ]
     },
     "execution_count": 9,
     "metadata": {},
     "output_type": "execute_result"
    }
   ],
   "source": [
    "test.head()"
   ]
  },
  {
   "cell_type": "code",
   "execution_count": 10,
   "id": "bb16ac8f",
   "metadata": {
    "ExecuteTime": {
     "end_time": "2023-03-27T16:58:37.207518Z",
     "start_time": "2023-03-27T16:58:37.200194Z"
    }
   },
   "outputs": [
    {
     "data": {
      "text/plain": [
       "25"
      ]
     },
     "execution_count": 10,
     "metadata": {},
     "output_type": "execute_result"
    }
   ],
   "source": [
    "test['topic'].nunique()"
   ]
  },
  {
   "cell_type": "code",
   "execution_count": 11,
   "id": "c5acb6ea",
   "metadata": {
    "ExecuteTime": {
     "end_time": "2023-03-27T16:58:38.413628Z",
     "start_time": "2023-03-27T16:58:37.211895Z"
    },
    "scrolled": true
   },
   "outputs": [
    {
     "data": {
      "image/png": "[encoded data removed]",
      "text/plain": [
       "<Figure size 720x288 with 1 Axes>"
      ]
     },
     "metadata": {
      "needs_background": "light"
     },
     "output_type": "display_data"
    }
   ],
   "source": [
    "test_stats = test.groupby(by=['topic', 'stance']).agg({'argument': 'count'}).reset_index()\n",
    "test_stats.pivot(index='topic', columns='stance', values='argument').rename(columns={-1: 'cons', 1: 'pros'}).plot(kind='bar', figsize=(10,4))\n",
    "plt.title('Arguments pros/cons for each topic (test set)')\n",
    "plt.ylabel('#arguments')\n",
    "plt.xlabel('Topics')\n",
    "plt.xticks(fontsize=10, rotation=90)\n",
    "plt.legend(loc='upper right')\n",
    "plt.savefig(plots_path+'ibm_test_topic_stats.png', bbox_inches =\"tight\")\n",
    "plt.show()"
   ]
  },
  {
   "cell_type": "markdown",
   "id": "1b205d58",
   "metadata": {},
   "source": [
    "## 2. Preprocessing data"
   ]
  },
  {
   "cell_type": "code",
   "execution_count": 12,
   "id": "a88de58c",
   "metadata": {
    "ExecuteTime": {
     "end_time": "2023-03-27T16:58:38.437276Z",
     "start_time": "2023-03-27T16:58:38.426214Z"
    }
   },
   "outputs": [],
   "source": [
    "# lower\n",
    "# remove extra whitespace\n",
    "# tokenize\n",
    "# spelling corrections\n",
    "# remove stopwords (da verificare se migliora o peggiora)\n",
    "# remove punctation\n",
    "# lemmatization\n",
    "# stemming \n",
    "# remove urls\n",
    "# remove tags"
   ]
  },
  {
   "cell_type": "code",
   "execution_count": 13,
   "id": "bac6bcee",
   "metadata": {
    "ExecuteTime": {
     "end_time": "2023-03-27T16:58:38.551984Z",
     "start_time": "2023-03-27T16:58:38.528123Z"
    }
   },
   "outputs": [],
   "source": [
    "class PreprocessArguments:\n",
    "    def __init__(self):\n",
    "        self.spell = Speller(lang='en')\n",
    "        self.stopwords_set = set(stopwords.words('english'))\n",
    "        self.punct_remover = RegexpTokenizer(r'\\w+')\n",
    "        self.porter = PorterStemmer()\n",
    "        self.wnl = WordNetLemmatizer()\n",
    "    \n",
    "    def preprocess(self, s):    \n",
    "        # lowercase\n",
    "        s = s.lower()\n",
    "        # remove double whitespaces\n",
    "        s = ' '.join(s.split())\n",
    "        # tokenize\n",
    "        s = word_tokenize(s)\n",
    "        # spell correction\n",
    "        s = [self.spell(word) for word in s]\n",
    "        # remove punctuation\n",
    "        s = self.punct_remover.tokenize(' '.join(s))\n",
    "        # remove stopwords\n",
    "        s = [word for word in s if word not in self.stopwords_set]\n",
    "        # stemming\n",
    "        s = [self.porter.stem(word) for word in s]\n",
    "        #lemmatization\n",
    "        #s = [self.wnl.lemmatize(word) for word in s]\n",
    "        \n",
    "        return s"
   ]
  },
  {
   "cell_type": "code",
   "execution_count": 14,
   "id": "b1220d2d",
   "metadata": {
    "ExecuteTime": {
     "end_time": "2023-03-27T16:58:38.725705Z",
     "start_time": "2023-03-27T16:58:38.560908Z"
    }
   },
   "outputs": [],
   "source": [
    "preproc = PreprocessArguments()"
   ]
  },
  {
   "cell_type": "code",
   "execution_count": 15,
   "id": "7b27dac2",
   "metadata": {
    "ExecuteTime": {
     "end_time": "2023-03-27T16:59:12.259610Z",
     "start_time": "2023-03-27T16:58:38.731644Z"
    }
   },
   "outputs": [],
   "source": [
    "train['arg_tok'] = [preproc.preprocess(row['argument']) for idx, row in train.iterrows()]"
   ]
  },
  {
   "cell_type": "code",
   "execution_count": 16,
   "id": "2aefb4fb",
   "metadata": {
    "ExecuteTime": {
     "end_time": "2023-03-27T16:59:24.446672Z",
     "start_time": "2023-03-27T16:59:12.265768Z"
    }
   },
   "outputs": [],
   "source": [
    "test['arg_tok'] = [preproc.preprocess(row['argument']) for idx, row in test.iterrows()]"
   ]
  },
  {
   "cell_type": "code",
   "execution_count": 17,
   "id": "56a4b0a6",
   "metadata": {
    "ExecuteTime": {
     "end_time": "2023-03-27T16:59:24.478467Z",
     "start_time": "2023-03-27T16:59:24.449039Z"
    }
   },
   "outputs": [
    {
     "data": {
      "text/html": [
       "<div>\n",
       "<style scoped>\n",
       "    .dataframe tbody tr th:only-of-type {\n",
       "        vertical-align: middle;\n",
       "    }\n",
       "\n",
       "    .dataframe tbody tr th {\n",
       "        vertical-align: top;\n",
       "    }\n",
       "\n",
       "    .dataframe thead th {\n",
       "        text-align: right;\n",
       "    }\n",
       "</style>\n",
       "<table border=\"1\" class=\"dataframe\">\n",
       "  <thead>\n",
       "    <tr style=\"text-align: right;\">\n",
       "      <th></th>\n",
       "      <th>topic</th>\n",
       "      <th>stance</th>\n",
       "      <th>argument</th>\n",
       "      <th>argument_sentiment</th>\n",
       "      <th>arg_tok</th>\n",
       "    </tr>\n",
       "  </thead>\n",
       "  <tbody>\n",
       "    <tr>\n",
       "      <th>0</th>\n",
       "      <td>atheism</td>\n",
       "      <td>CON</td>\n",
       "      <td>the most immoral acts in human history were pe...</td>\n",
       "      <td>-1.0</td>\n",
       "      <td>[immor, act, human, histori, perform, atheist]</td>\n",
       "    </tr>\n",
       "    <tr>\n",
       "      <th>1</th>\n",
       "      <td>partial birth abortions</td>\n",
       "      <td>PRO</td>\n",
       "      <td>Abortion is considered to be morally wrong</td>\n",
       "      <td>-1.0</td>\n",
       "      <td>[abort, consid, moral, wrong]</td>\n",
       "    </tr>\n",
       "    <tr>\n",
       "      <th>2</th>\n",
       "      <td>the monarchy</td>\n",
       "      <td>PRO</td>\n",
       "      <td>The laws of succession are held by some to be ...</td>\n",
       "      <td>-1.0</td>\n",
       "      <td>[law, success, held, sexist]</td>\n",
       "    </tr>\n",
       "    <tr>\n",
       "      <th>3</th>\n",
       "      <td>endangered species</td>\n",
       "      <td>PRO</td>\n",
       "      <td>More biologically diverse communities appear t...</td>\n",
       "      <td>1.0</td>\n",
       "      <td>[biolog, divers, commun, appear, stabl]</td>\n",
       "    </tr>\n",
       "    <tr>\n",
       "      <th>4</th>\n",
       "      <td>the sale of violent video games to minors</td>\n",
       "      <td>PRO</td>\n",
       "      <td>Various games are accused of causing addiction...</td>\n",
       "      <td>-1.0</td>\n",
       "      <td>[variou, game, accus, caus, addict, even, viol...</td>\n",
       "    </tr>\n",
       "  </tbody>\n",
       "</table>\n",
       "</div>"
      ],
      "text/plain": [
       "                                       topic stance  \\\n",
       "0                                    atheism    CON   \n",
       "1                    partial birth abortions    PRO   \n",
       "2                               the monarchy    PRO   \n",
       "3                         endangered species    PRO   \n",
       "4  the sale of violent video games to minors    PRO   \n",
       "\n",
       "                                            argument  argument_sentiment  \\\n",
       "0  the most immoral acts in human history were pe...                -1.0   \n",
       "1         Abortion is considered to be morally wrong                -1.0   \n",
       "2  The laws of succession are held by some to be ...                -1.0   \n",
       "3  More biologically diverse communities appear t...                 1.0   \n",
       "4  Various games are accused of causing addiction...                -1.0   \n",
       "\n",
       "                                             arg_tok  \n",
       "0     [immor, act, human, histori, perform, atheist]  \n",
       "1                      [abort, consid, moral, wrong]  \n",
       "2                       [law, success, held, sexist]  \n",
       "3            [biolog, divers, commun, appear, stabl]  \n",
       "4  [variou, game, accus, caus, addict, even, viol...  "
      ]
     },
     "execution_count": 17,
     "metadata": {},
     "output_type": "execute_result"
    }
   ],
   "source": [
    "train.head()"
   ]
  },
  {
   "cell_type": "code",
   "execution_count": 18,
   "id": "38bfb04d",
   "metadata": {
    "ExecuteTime": {
     "end_time": "2023-03-27T16:59:54.196614Z",
     "start_time": "2023-03-27T16:59:24.488053Z"
    },
    "scrolled": false
   },
   "outputs": [],
   "source": [
    "count_vect = CountVectorizer(tokenizer=preproc.preprocess, lowercase=False, token_pattern=None)\n",
    "count_fit = count_vect.fit_transform(train['argument'])"
   ]
  },
  {
   "cell_type": "code",
   "execution_count": 19,
   "id": "162e32f7",
   "metadata": {
    "ExecuteTime": {
     "end_time": "2023-03-27T16:59:55.903248Z",
     "start_time": "2023-03-27T16:59:54.198983Z"
    },
    "scrolled": true
   },
   "outputs": [
    {
     "data": {
      "image/png": "[encoded data removed]",
      "text/plain": [
       "<Figure size 720x288 with 1 Axes>"
      ]
     },
     "metadata": {
      "needs_background": "light"
     },
     "output_type": "display_data"
    }
   ],
   "source": [
    "n = 50\n",
    "count_sum = sorted(list(zip(count_fit.toarray().sum(axis=0), count_vect.get_feature_names_out())), reverse=True)\n",
    "count_sum = count_sum[:n]\n",
    "fig, ax = plt.subplots(figsize=(10,4))\n",
    "plt.bar([p[1] for p in count_sum], [p[0] for p in count_sum])\n",
    "#plt.bar(range(len(count_sum)), [p[0] for p in count_sum])\n",
    "plt.title('Frequencies of words')\n",
    "plt.ylabel('Frequence')\n",
    "plt.xlabel('Word')\n",
    "plt.xticks(fontsize=10, rotation=90)\n",
    "#plt.yticks(np.arange(0,1200,100))\n",
    "plt.savefig(plots_path+str(n)+'_token_frequencies.png', bbox_inches =\"tight\")\n",
    "plt.show()"
   ]
  },
  {
   "cell_type": "markdown",
   "id": "545a3e7c",
   "metadata": {},
   "source": [
    "## 3. Classification"
   ]
  },
  {
   "cell_type": "markdown",
   "id": "2acdd453",
   "metadata": {},
   "source": [
    "### 3.1 Baseline: Naive Bayes"
   ]
  },
  {
   "cell_type": "code",
   "execution_count": 20,
   "id": "e2123d69",
   "metadata": {
    "ExecuteTime": {
     "end_time": "2023-03-27T16:59:55.914096Z",
     "start_time": "2023-03-27T16:59:55.909611Z"
    }
   },
   "outputs": [],
   "source": [
    "def dummy_tokenizer(sentence):\n",
    "    return sentence"
   ]
  },
  {
   "cell_type": "code",
   "execution_count": 21,
   "id": "e97c6276",
   "metadata": {
    "ExecuteTime": {
     "end_time": "2023-03-27T16:59:55.968325Z",
     "start_time": "2023-03-27T16:59:55.919452Z"
    }
   },
   "outputs": [],
   "source": [
    "lb = LabelBinarizer()\n",
    "y_train = lb.fit_transform(train['stance'])"
   ]
  },
  {
   "cell_type": "code",
   "execution_count": 22,
   "id": "4ab77f36",
   "metadata": {
    "ExecuteTime": {
     "end_time": "2023-03-27T16:59:55.986649Z",
     "start_time": "2023-03-27T16:59:55.978346Z"
    }
   },
   "outputs": [],
   "source": [
    "scoring = ['accuracy', 'f1', 'precision', 'recall']"
   ]
  },
  {
   "cell_type": "code",
   "execution_count": 23,
   "id": "f8f14e54",
   "metadata": {
    "ExecuteTime": {
     "end_time": "2023-03-27T16:59:56.005086Z",
     "start_time": "2023-03-27T16:59:55.996939Z"
    }
   },
   "outputs": [],
   "source": [
    "pipe = Pipeline([('preproc', TfidfVectorizer()), ('nb', MultinomialNB())])"
   ]
  },
  {
   "cell_type": "code",
   "execution_count": null,
   "id": "eb59ea2e",
   "metadata": {
    "ExecuteTime": {
     "end_time": "2023-03-27T09:34:37.075790Z",
     "start_time": "2023-03-27T09:34:37.070370Z"
    }
   },
   "outputs": [],
   "source": [
    "params = [\n",
    "    {'preproc': [TfidfVectorizer()],\n",
    "     'preproc__tokenizer': [dummy_tokenizer],\n",
    "     'preproc__preprocessor': [dummy_tokenizer],\n",
    "     'preproc__token_pattern': [None],\n",
    "     #'preproc__min_df': [1, 10, 20, 50, 100, 200],\n",
    "     'preproc__min_df': np.arange(1,11,1),\n",
    "     #'preproc__max_features': [None, 100, 200, 500],\n",
    "     'preproc__ngram_range': [(1,1), (1,2), (1,3), (2,3)],\n",
    "     \n",
    "     'nb': [MultinomialNB()],\n",
    "     #'nb__alpha': [0.0001, 0.001, 0.01, 0.1, 1, 10, 100]\n",
    "     'nb__alpha': np.arange(1,15,1)\n",
    "    }\n",
    "]"
   ]
  },
  {
   "cell_type": "code",
   "execution_count": null,
   "id": "caeb961f",
   "metadata": {
    "ExecuteTime": {
     "end_time": "2023-03-27T09:34:37.515961Z",
     "start_time": "2023-03-27T09:34:37.509425Z"
    }
   },
   "outputs": [],
   "source": [
    "clf = GridSearchCV(estimator=pipe, param_grid=params, scoring=scoring, refit='f1',\n",
    "                   cv=3, return_train_score=True, n_jobs=-2, verbose=10)"
   ]
  },
  {
   "cell_type": "code",
   "execution_count": null,
   "id": "0d754970",
   "metadata": {
    "ExecuteTime": {
     "end_time": "2023-03-27T09:35:43.279554Z",
     "start_time": "2023-03-27T09:34:37.970000Z"
    },
    "scrolled": true
   },
   "outputs": [],
   "source": [
    "clf.fit(train['arg_tok'], y_train.ravel())"
   ]
  },
  {
   "cell_type": "code",
   "execution_count": null,
   "id": "8fec840c",
   "metadata": {
    "ExecuteTime": {
     "end_time": "2023-03-27T09:35:43.330371Z",
     "start_time": "2023-03-27T09:35:43.293048Z"
    }
   },
   "outputs": [],
   "source": [
    "clf.best_params_"
   ]
  },
  {
   "cell_type": "code",
   "execution_count": null,
   "id": "8d94ff18",
   "metadata": {
    "ExecuteTime": {
     "end_time": "2023-03-27T09:35:43.377093Z",
     "start_time": "2023-03-27T09:35:43.339577Z"
    }
   },
   "outputs": [],
   "source": [
    "#pd.DataFrame(clf.cv_results_).sort_values(by='rank_test_f1')[['mean_test_f1', 'param_nb', 'param_preproc__ngram_range', 'param_preproc__min_df']][:600]\n",
    "#tmp = pd.DataFrame(clf.cv_results_).sort_values(by='rank_test_f1')[['mean_test_f1', 'param_nb', 'param_preproc__ngram_range', 'param_preproc__min_df']][:600]\n",
    "#tmp.groupby(by='param_preproc__min_df').count()\n"
   ]
  },
  {
   "cell_type": "code",
   "execution_count": null,
   "id": "c94c7dbf",
   "metadata": {
    "ExecuteTime": {
     "end_time": "2023-03-27T09:35:45.471620Z",
     "start_time": "2023-03-27T09:35:43.383430Z"
    }
   },
   "outputs": [],
   "source": [
    "#pd.DataFrame(clf.cv_results_).to_csv(models_path+'nb_gridsearch.csv')"
   ]
  },
  {
   "cell_type": "code",
   "execution_count": null,
   "id": "588ac781",
   "metadata": {
    "ExecuteTime": {
     "end_time": "2023-03-27T09:36:34.169815Z",
     "start_time": "2023-03-27T09:36:34.100434Z"
    }
   },
   "outputs": [],
   "source": [
    "best_clf = clf.best_estimator_\n",
    "best_clf.fit(train['arg_tok'], y_train.ravel())\n",
    "pred_test = best_clf.predict(test['arg_tok'])\n",
    "y_test = lb.transform(test['stance'])"
   ]
  },
  {
   "cell_type": "code",
   "execution_count": null,
   "id": "2d552373",
   "metadata": {
    "ExecuteTime": {
     "end_time": "2023-03-27T09:39:45.140731Z",
     "start_time": "2023-03-27T09:39:44.743902Z"
    }
   },
   "outputs": [],
   "source": [
    "cm = confusion_matrix(y_test, pred_test)\n",
    "fig, ax = plt.subplots(figsize=(5,5))\n",
    "ConfusionMatrixDisplay(confusion_matrix=cm, display_labels=lb.inverse_transform(clf.classes_)).plot(ax=ax)\n",
    "plt.savefig(plots_path+'nb_cm.png', bbox_inches =\"tight\")"
   ]
  },
  {
   "cell_type": "code",
   "execution_count": null,
   "id": "3c96ae91",
   "metadata": {
    "ExecuteTime": {
     "end_time": "2023-03-27T09:40:13.463278Z",
     "start_time": "2023-03-27T09:40:13.440384Z"
    }
   },
   "outputs": [],
   "source": [
    "print(classification_report(y_test, pred_test))"
   ]
  },
  {
   "cell_type": "markdown",
   "id": "14f016f4",
   "metadata": {},
   "source": [
    "### 3.2 SVM"
   ]
  },
  {
   "cell_type": "code",
   "execution_count": 24,
   "id": "08d92dbe",
   "metadata": {
    "ExecuteTime": {
     "end_time": "2023-03-27T16:59:56.029734Z",
     "start_time": "2023-03-27T16:59:56.021283Z"
    }
   },
   "outputs": [],
   "source": [
    "def dummy_tokenizer(sentence):\n",
    "    return sentence"
   ]
  },
  {
   "cell_type": "code",
   "execution_count": 25,
   "id": "887b32d2",
   "metadata": {
    "ExecuteTime": {
     "end_time": "2023-03-27T16:59:56.046014Z",
     "start_time": "2023-03-27T16:59:56.035768Z"
    }
   },
   "outputs": [],
   "source": [
    "scoring = ['accuracy', 'f1', 'precision', 'recall']"
   ]
  },
  {
   "cell_type": "code",
   "execution_count": 26,
   "id": "228bfa57",
   "metadata": {
    "ExecuteTime": {
     "end_time": "2023-03-27T16:59:56.064201Z",
     "start_time": "2023-03-27T16:59:56.054355Z"
    }
   },
   "outputs": [],
   "source": [
    "pipe = Pipeline([('preproc', TfidfVectorizer()), ('svm', SVC())])"
   ]
  },
  {
   "cell_type": "code",
   "execution_count": 84,
   "id": "3526b6f6",
   "metadata": {
    "ExecuteTime": {
     "end_time": "2023-03-27T19:28:06.095572Z",
     "start_time": "2023-03-27T19:28:06.086468Z"
    }
   },
   "outputs": [],
   "source": [
    "params = [\n",
    "    {'preproc': [TfidfVectorizer()],\n",
    "     'preproc__tokenizer': [dummy_tokenizer],\n",
    "     'preproc__preprocessor': [dummy_tokenizer],\n",
    "     'preproc__token_pattern': [None],\n",
    "     #'preproc__min_df': [1, 10, 20, 50, 100],\n",
    "     #'preproc__min_df': np.arange(1,11,1),\n",
    "     'preproc__min_df': np.arange(1,6,1),\n",
    "     #'preproc__max_features': [None, 100, 200, 300, 400, 500, 600],\n",
    "     'preproc__max_features': [None],\n",
    "     #'preproc__ngram_range': [(1,1), (1,2), (1,3), (2,3)],\n",
    "     'preproc__ngram_range': [(1,1), (1,2), (1,3)],\n",
    "     \n",
    "     'svm': [SVC()],\n",
    "     #'svm__C': [0.1, 1, 2, 5, 10, 50],\n",
    "     #'svm__C': np.arange(1,10,1),\n",
    "     'svm__C': np.arange(0.01,5,0.5),\n",
    "     #'svm__C': [1, 5, 10],\n",
    "     'svm__kernel': ['poly'],\n",
    "     #'svm__degree': [2, 3, 5, 8, 10],\n",
    "     'svm__degree': np.arange(2,10,1),\n",
    "     'svm__gamma': ['scale'],\n",
    "     #'svm__shrinking': [True, False],     \n",
    "    },\n",
    "    \n",
    "    #{'preproc': [TfidfVectorizer()],\n",
    "     #'preproc__tokenizer': [dummy_tokenizer],\n",
    "     #'preproc__preprocessor': [dummy_tokenizer],\n",
    "     #'preproc__token_pattern': [None],\n",
    "     #'preproc__min_df': [1, 10, 20, 50, 100],\n",
    "     #'preproc__min_df': np.arange(1,11,1),\n",
    "     #'preproc__max_features': [None, 100, 200, 300, 400, 500, 600],\n",
    "     #'preproc__ngram_range': [(1,1), (1,2), (1,3), (2,3)],\n",
    "     #'preproc__ngram_range': [(1,1), (1,2), (1,3)],\n",
    "     \n",
    "     #'svm': [SVC()],\n",
    "     #'svm__C': [0.1, 1, 2, 5, 10, 50],\n",
    "     #'svm__C': np.arange(1,20,2),\n",
    "     #'svm__C': [1, 5, 10],\n",
    "     #'svm__kernel': ['rbf', 'sigmoid'],\n",
    "     #'svm__kernel': ['rbf'],\n",
    "     #'svm__gamma': ['scale'],\n",
    "     #'svm__shrinking': [True, False],     \n",
    "    #},\n",
    "]"
   ]
  },
  {
   "cell_type": "code",
   "execution_count": 85,
   "id": "865cb9d4",
   "metadata": {
    "ExecuteTime": {
     "end_time": "2023-03-27T19:28:08.681753Z",
     "start_time": "2023-03-27T19:28:08.674815Z"
    }
   },
   "outputs": [],
   "source": [
    "clf = GridSearchCV(estimator=pipe, param_grid=params, scoring=scoring, refit='f1',\n",
    "                   cv=3, return_train_score=True, n_jobs=-2, verbose=10)"
   ]
  },
  {
   "cell_type": "code",
   "execution_count": null,
   "id": "05db5fb6",
   "metadata": {
    "ExecuteTime": {
     "end_time": "2023-03-27T19:33:32.432991Z",
     "start_time": "2023-03-27T19:28:09.855228Z"
    },
    "scrolled": true
   },
   "outputs": [],
   "source": [
    "clf.fit(train['arg_tok'], y_train.ravel())"
   ]
  },
  {
   "cell_type": "code",
   "execution_count": 87,
   "id": "fe2cf40b",
   "metadata": {
    "ExecuteTime": {
     "end_time": "2023-03-27T19:33:32.447954Z",
     "start_time": "2023-03-27T19:33:32.438910Z"
    }
   },
   "outputs": [
    {
     "data": {
      "text/plain": [
       "{'preproc': TfidfVectorizer(preprocessor=<function dummy_tokenizer at 0x13d08acb0>,\n",
       "                 token_pattern=None,\n",
       "                 tokenizer=<function dummy_tokenizer at 0x13d08acb0>),\n",
       " 'preproc__max_features': None,\n",
       " 'preproc__min_df': 1,\n",
       " 'preproc__ngram_range': (1, 1),\n",
       " 'preproc__preprocessor': <function __main__.dummy_tokenizer(sentence)>,\n",
       " 'preproc__token_pattern': None,\n",
       " 'preproc__tokenizer': <function __main__.dummy_tokenizer(sentence)>,\n",
       " 'svm': SVC(C=3.01, kernel='poly'),\n",
       " 'svm__C': 3.01,\n",
       " 'svm__degree': 3,\n",
       " 'svm__gamma': 'scale',\n",
       " 'svm__kernel': 'poly'}"
      ]
     },
     "execution_count": 87,
     "metadata": {},
     "output_type": "execute_result"
    }
   ],
   "source": [
    "clf.best_params_"
   ]
  },
  {
   "cell_type": "code",
   "execution_count": 88,
   "id": "9b0b5517",
   "metadata": {
    "ExecuteTime": {
     "end_time": "2023-03-27T19:33:32.459879Z",
     "start_time": "2023-03-27T19:33:32.453223Z"
    }
   },
   "outputs": [],
   "source": [
    "#pd.DataFrame(clf.cv_results_).sort_values(by='rank_test_f1')[['mean_test_f1', 'param_svm__kernel', 'param_preproc__ngram_range', 'param_preproc__min_df']][:100]\n",
    "#tmp = pd.DataFrame(clf.cv_results_).sort_values(by='rank_test_f1')[['mean_test_f1', 'param_svm__kernel', 'param_svm__degree', 'param_svm__C', 'param_preproc__min_df']][:400]\n",
    "#tmp.groupby(by=['param_svm__kernel', 'param_preproc__min_df']).count()\n"
   ]
  },
  {
   "cell_type": "code",
   "execution_count": 89,
   "id": "755fb9c6",
   "metadata": {
    "ExecuteTime": {
     "end_time": "2023-03-27T19:33:32.505850Z",
     "start_time": "2023-03-27T19:33:32.497458Z"
    }
   },
   "outputs": [],
   "source": [
    "#pd.DataFrame(clf.cv_results_).to_csv(models_path+'svc_gridsearch.csv')"
   ]
  },
  {
   "cell_type": "code",
   "execution_count": 90,
   "id": "76e37839",
   "metadata": {
    "ExecuteTime": {
     "end_time": "2023-03-27T19:33:32.823000Z",
     "start_time": "2023-03-27T19:33:32.511482Z"
    }
   },
   "outputs": [],
   "source": [
    "best_clf = clf.best_estimator_\n",
    "best_clf.fit(train['arg_tok'], y_train.ravel())\n",
    "pred_test = best_clf.predict(test['arg_tok'])\n",
    "y_test = lb.transform(test['stance'])"
   ]
  },
  {
   "cell_type": "code",
   "execution_count": 91,
   "id": "feb00748",
   "metadata": {
    "ExecuteTime": {
     "end_time": "2023-03-27T19:33:33.285979Z",
     "start_time": "2023-03-27T19:33:32.826537Z"
    }
   },
   "outputs": [
    {
     "data": {
      "image/png": "[encoded data removed]",
      "text/plain": [
       "<Figure size 360x360 with 2 Axes>"
      ]
     },
     "metadata": {
      "needs_background": "light"
     },
     "output_type": "display_data"
    }
   ],
   "source": [
    "cm = confusion_matrix(y_test, pred_test)\n",
    "fig, ax = plt.subplots(figsize=(5,5))\n",
    "ConfusionMatrixDisplay(confusion_matrix=cm, display_labels=lb.inverse_transform(clf.classes_)).plot(ax=ax)\n",
    "plt.savefig(plots_path+'svc_cm.png', bbox_inches =\"tight\")"
   ]
  },
  {
   "cell_type": "code",
   "execution_count": 92,
   "id": "933f5fc5",
   "metadata": {
    "ExecuteTime": {
     "end_time": "2023-03-27T19:33:33.313777Z",
     "start_time": "2023-03-27T19:33:33.290542Z"
    }
   },
   "outputs": [
    {
     "name": "stdout",
     "output_type": "stream",
     "text": [
      "              precision    recall  f1-score   support\n",
      "\n",
      "           0       0.82      0.38      0.52       262\n",
      "           1       0.65      0.93      0.77       329\n",
      "\n",
      "    accuracy                           0.69       591\n",
      "   macro avg       0.74      0.66      0.65       591\n",
      "weighted avg       0.73      0.69      0.66       591\n",
      "\n"
     ]
    }
   ],
   "source": [
    "print(classification_report(y_test, pred_test))"
   ]
  },
  {
   "cell_type": "markdown",
   "id": "f8c3ac8f",
   "metadata": {},
   "source": [
    "### 3.3 BERT"
   ]
  },
  {
   "cell_type": "code",
   "execution_count": null,
   "id": "ac203e8e",
   "metadata": {},
   "outputs": [],
   "source": []
  },
  {
   "cell_type": "code",
   "execution_count": null,
   "id": "ca4e93f2",
   "metadata": {},
   "outputs": [],
   "source": []
  },
  {
   "cell_type": "code",
   "execution_count": null,
   "id": "753482d8",
   "metadata": {},
   "outputs": [],
   "source": []
  },
  {
   "cell_type": "code",
   "execution_count": null,
   "id": "3a8ddf24",
   "metadata": {},
   "outputs": [],
   "source": []
  }
 ],
 "metadata": {
  "kernelspec": {
   "display_name": "Python 3 (ipykernel)",
   "language": "python",
   "name": "python3"
  },
  "language_info": {
   "codemirror_mode": {
    "name": "ipython",
    "version": 3
   },
   "file_extension": ".py",
   "mimetype": "text/x-python",
   "name": "python",
   "nbconvert_exporter": "python",
   "pygments_lexer": "ipython3",
   "version": "3.10.2"
  }
 },
 "nbformat": 4,
 "nbformat_minor": 5
}
