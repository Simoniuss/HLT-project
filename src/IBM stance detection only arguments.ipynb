{
 "cells": [
  {
   "attachments": {},
   "cell_type": "markdown",
   "id": "8eeef64f",
   "metadata": {},
   "source": [
    "# IBM stance detection with only arguments"
   ]
  },
  {
   "attachments": {},
   "cell_type": "markdown",
   "id": "71fdf301",
   "metadata": {},
   "source": [
    "Stance detection of the IBM datasets using only arguments as input to train the model, without considering the main topic of each one"
   ]
  },
  {
   "cell_type": "code",
   "execution_count": null,
   "id": "003c7b7d",
   "metadata": {
    "ExecuteTime": {
     "end_time": "2023-03-27T16:58:35.787115Z",
     "start_time": "2023-03-27T16:58:31.240657Z"
    }
   },
   "outputs": [],
   "source": [
    "import pandas as pd\n",
    "import matplotlib.pyplot as plt\n",
    "import numpy as np\n",
    "import shap\n",
    "\n",
    "shap.initjs()"
   ]
  },
  {
   "cell_type": "code",
   "execution_count": null,
   "id": "7d28b7f3",
   "metadata": {
    "ExecuteTime": {
     "end_time": "2023-03-27T16:58:35.826822Z",
     "start_time": "2023-03-27T16:58:35.808764Z"
    }
   },
   "outputs": [],
   "source": [
    "#nltk.download('punkt')\n",
    "#nltk.download('stopwords')\n",
    "#nltk.download('wordnet')\n",
    "#nltk.download('omw-1.4')"
   ]
  },
  {
   "attachments": {},
   "cell_type": "markdown",
   "id": "652fb926",
   "metadata": {},
   "source": [
    "## 1. Import datasets"
   ]
  },
  {
   "cell_type": "code",
   "execution_count": null,
   "id": "3437a8ef",
   "metadata": {
    "ExecuteTime": {
     "end_time": "2023-03-27T16:58:35.853541Z",
     "start_time": "2023-03-27T16:58:35.841878Z"
    }
   },
   "outputs": [],
   "source": [
    "train_path = '../data/ibm/ibm_train.csv'\n",
    "test_path = '../data/ibm/ibm_test.csv'\n",
    "\n",
    "plots_path = '../plots/only arguments/'\n",
    "models_path = '../models/ibm/'"
   ]
  },
  {
   "attachments": {},
   "cell_type": "markdown",
   "id": "f9691330",
   "metadata": {},
   "source": [
    "### Training set"
   ]
  },
  {
   "cell_type": "code",
   "execution_count": null,
   "id": "aae18400",
   "metadata": {
    "ExecuteTime": {
     "end_time": "2023-03-27T16:58:35.902288Z",
     "start_time": "2023-03-27T16:58:35.882071Z"
    }
   },
   "outputs": [],
   "source": [
    "train = pd.read_csv(train_path) "
   ]
  },
  {
   "cell_type": "code",
   "execution_count": null,
   "id": "e29155d8",
   "metadata": {
    "ExecuteTime": {
     "end_time": "2023-03-27T16:58:35.928987Z",
     "start_time": "2023-03-27T16:58:35.906516Z"
    }
   },
   "outputs": [],
   "source": [
    "train.head()"
   ]
  },
  {
   "cell_type": "code",
   "execution_count": null,
   "id": "ec8ad0c2",
   "metadata": {
    "ExecuteTime": {
     "end_time": "2023-03-27T16:58:35.940317Z",
     "start_time": "2023-03-27T16:58:35.932100Z"
    }
   },
   "outputs": [],
   "source": [
    "train['topic'].nunique()"
   ]
  },
  {
   "cell_type": "code",
   "execution_count": null,
   "id": "86a79fd7",
   "metadata": {
    "ExecuteTime": {
     "end_time": "2023-03-27T16:58:37.135320Z",
     "start_time": "2023-03-27T16:58:35.943697Z"
    },
    "scrolled": true
   },
   "outputs": [],
   "source": [
    "train_stats = train.groupby(by=['topic', 'stance']).agg({'argument': 'count'}).reset_index()\n",
    "train_stats.pivot(index='topic', columns='stance', values='argument').rename(columns={-1: 'cons', 1: 'pros'}).plot(kind='bar', figsize=(10,4))\n",
    "plt.title('Arguments pros/cons for each topic (training set)')\n",
    "plt.ylabel('#arguments')\n",
    "plt.xlabel('Topics')\n",
    "plt.xticks(fontsize=10, rotation=90)\n",
    "plt.legend(loc='upper right')\n",
    "#plt.savefig(plots_path+'ibm_train_topic_stats.png', bbox_inches =\"tight\")\n",
    "plt.show()"
   ]
  },
  {
   "attachments": {},
   "cell_type": "markdown",
   "id": "ca1541ca",
   "metadata": {},
   "source": [
    "### Test set"
   ]
  },
  {
   "cell_type": "code",
   "execution_count": null,
   "id": "44b867c0",
   "metadata": {
    "ExecuteTime": {
     "end_time": "2023-03-27T16:58:37.164469Z",
     "start_time": "2023-03-27T16:58:37.140474Z"
    }
   },
   "outputs": [],
   "source": [
    "test = pd.read_csv(test_path) "
   ]
  },
  {
   "cell_type": "code",
   "execution_count": null,
   "id": "3a3d28d3",
   "metadata": {
    "ExecuteTime": {
     "end_time": "2023-03-27T16:58:37.190482Z",
     "start_time": "2023-03-27T16:58:37.169275Z"
    }
   },
   "outputs": [],
   "source": [
    "test.head()"
   ]
  },
  {
   "cell_type": "code",
   "execution_count": null,
   "id": "bb16ac8f",
   "metadata": {
    "ExecuteTime": {
     "end_time": "2023-03-27T16:58:37.207518Z",
     "start_time": "2023-03-27T16:58:37.200194Z"
    }
   },
   "outputs": [],
   "source": [
    "test['topic'].nunique()"
   ]
  },
  {
   "cell_type": "code",
   "execution_count": null,
   "id": "c5acb6ea",
   "metadata": {
    "ExecuteTime": {
     "end_time": "2023-03-27T16:58:38.413628Z",
     "start_time": "2023-03-27T16:58:37.211895Z"
    },
    "scrolled": true
   },
   "outputs": [],
   "source": [
    "test_stats = test.groupby(by=['topic', 'stance']).agg({'argument': 'count'}).reset_index()\n",
    "test_stats.pivot(index='topic', columns='stance', values='argument').rename(columns={-1: 'cons', 1: 'pros'}).plot(kind='bar', figsize=(10,4))\n",
    "plt.title('Arguments pros/cons for each topic (test set)')\n",
    "plt.ylabel('#arguments')\n",
    "plt.xlabel('Topics')\n",
    "plt.xticks(fontsize=10, rotation=90)\n",
    "plt.legend(loc='upper right')\n",
    "#plt.savefig(plots_path+'ibm_test_topic_stats.png', bbox_inches =\"tight\")\n",
    "plt.show()"
   ]
  },
  {
   "attachments": {},
   "cell_type": "markdown",
   "id": "1b205d58",
   "metadata": {},
   "source": [
    "## 2. Preprocessing data"
   ]
  },
  {
   "cell_type": "code",
   "execution_count": null,
   "id": "18c99aee",
   "metadata": {},
   "outputs": [],
   "source": [
    "import nltk\n",
    "from nltk.tokenize import word_tokenize\n",
    "from nltk.corpus import stopwords\n",
    "from nltk.tokenize import RegexpTokenizer\n",
    "from nltk.stem import WordNetLemmatizer\n",
    "from nltk.stem.porter import PorterStemmer\n",
    "from autocorrect import Speller\n",
    "from sklearn.feature_extraction.text import TfidfVectorizer, CountVectorizer"
   ]
  },
  {
   "cell_type": "code",
   "execution_count": null,
   "id": "a88de58c",
   "metadata": {
    "ExecuteTime": {
     "end_time": "2023-03-27T16:58:38.437276Z",
     "start_time": "2023-03-27T16:58:38.426214Z"
    }
   },
   "outputs": [],
   "source": [
    "# lower\n",
    "# remove extra whitespace\n",
    "# tokenize\n",
    "# spelling corrections\n",
    "# remove stopwords (da verificare se migliora o peggiora)\n",
    "# remove punctation\n",
    "# lemmatization\n",
    "# stemming \n",
    "# remove urls\n",
    "# remove tags"
   ]
  },
  {
   "cell_type": "code",
   "execution_count": null,
   "id": "bac6bcee",
   "metadata": {
    "ExecuteTime": {
     "end_time": "2023-03-27T16:58:38.551984Z",
     "start_time": "2023-03-27T16:58:38.528123Z"
    }
   },
   "outputs": [],
   "source": [
    "class PreprocessArguments:\n",
    "    def __init__(self):\n",
    "        self.spell = Speller(lang='en')\n",
    "        self.stopwords_set = set(stopwords.words('english'))\n",
    "        self.punct_remover = RegexpTokenizer(r'\\w+')\n",
    "        self.porter = PorterStemmer()\n",
    "        self.wnl = WordNetLemmatizer()\n",
    "    \n",
    "    def preprocess(self, s):    \n",
    "        # lowercase\n",
    "        s = s.lower()\n",
    "        # remove double whitespaces\n",
    "        s = ' '.join(s.split())\n",
    "        # tokenize\n",
    "        s = word_tokenize(s)\n",
    "        # spell correction\n",
    "        s = [self.spell(word) for word in s]\n",
    "        # remove punctuation\n",
    "        s = self.punct_remover.tokenize(' '.join(s))\n",
    "        # remove stopwords\n",
    "        s = [word for word in s if word not in self.stopwords_set]\n",
    "        # stemming\n",
    "        s = [self.porter.stem(word) for word in s]\n",
    "        #lemmatization\n",
    "        #s = [self.wnl.lemmatize(word) for word in s]\n",
    "        \n",
    "        return s"
   ]
  },
  {
   "cell_type": "code",
   "execution_count": null,
   "id": "b1220d2d",
   "metadata": {
    "ExecuteTime": {
     "end_time": "2023-03-27T16:58:38.725705Z",
     "start_time": "2023-03-27T16:58:38.560908Z"
    }
   },
   "outputs": [],
   "source": [
    "preproc = PreprocessArguments()"
   ]
  },
  {
   "cell_type": "code",
   "execution_count": null,
   "id": "7b27dac2",
   "metadata": {
    "ExecuteTime": {
     "end_time": "2023-03-27T16:59:12.259610Z",
     "start_time": "2023-03-27T16:58:38.731644Z"
    }
   },
   "outputs": [],
   "source": [
    "train['arg_tok'] = [preproc.preprocess(row['argument']) for idx, row in train.iterrows()]"
   ]
  },
  {
   "cell_type": "code",
   "execution_count": null,
   "id": "2aefb4fb",
   "metadata": {
    "ExecuteTime": {
     "end_time": "2023-03-27T16:59:24.446672Z",
     "start_time": "2023-03-27T16:59:12.265768Z"
    }
   },
   "outputs": [],
   "source": [
    "test['arg_tok'] = [preproc.preprocess(row['argument']) for idx, row in test.iterrows()]"
   ]
  },
  {
   "cell_type": "code",
   "execution_count": null,
   "id": "56a4b0a6",
   "metadata": {
    "ExecuteTime": {
     "end_time": "2023-03-27T16:59:24.478467Z",
     "start_time": "2023-03-27T16:59:24.449039Z"
    }
   },
   "outputs": [],
   "source": [
    "train.head()"
   ]
  },
  {
   "cell_type": "code",
   "execution_count": null,
   "id": "38bfb04d",
   "metadata": {
    "ExecuteTime": {
     "end_time": "2023-03-27T16:59:54.196614Z",
     "start_time": "2023-03-27T16:59:24.488053Z"
    },
    "scrolled": false
   },
   "outputs": [],
   "source": [
    "count_vect = CountVectorizer(tokenizer=preproc.preprocess, lowercase=False, token_pattern=None)\n",
    "count_fit = count_vect.fit_transform(train['argument'])"
   ]
  },
  {
   "cell_type": "code",
   "execution_count": null,
   "id": "162e32f7",
   "metadata": {
    "ExecuteTime": {
     "end_time": "2023-03-27T16:59:55.903248Z",
     "start_time": "2023-03-27T16:59:54.198983Z"
    },
    "scrolled": true
   },
   "outputs": [],
   "source": [
    "n = 50\n",
    "count_sum = sorted(list(zip(count_fit.toarray().sum(axis=0), count_vect.get_feature_names_out())), reverse=True)\n",
    "count_sum = count_sum[:n]\n",
    "fig, ax = plt.subplots(figsize=(10,4))\n",
    "plt.bar([p[1] for p in count_sum], [p[0] for p in count_sum])\n",
    "#plt.bar(range(len(count_sum)), [p[0] for p in count_sum])\n",
    "plt.title('Frequencies of words')\n",
    "plt.ylabel('Frequence')\n",
    "plt.xlabel('Word')\n",
    "plt.xticks(fontsize=10, rotation=90)\n",
    "#plt.yticks(np.arange(0,1200,100))\n",
    "#plt.savefig(plots_path+str(n)+'_token_frequencies.png', bbox_inches =\"tight\")\n",
    "plt.show()"
   ]
  },
  {
   "attachments": {},
   "cell_type": "markdown",
   "id": "545a3e7c",
   "metadata": {},
   "source": [
    "## 3. Classification"
   ]
  },
  {
   "cell_type": "code",
   "execution_count": null,
   "id": "cc5a5ae7",
   "metadata": {},
   "outputs": [],
   "source": [
    "from sklearn.naive_bayes import MultinomialNB\n",
    "from sklearn.svm import SVC\n",
    "from sklearn.metrics import confusion_matrix, ConfusionMatrixDisplay, classification_report\n",
    "from sklearn.pipeline import Pipeline\n",
    "from sklearn.model_selection import train_test_split, cross_validate, GridSearchCV\n",
    "from sklearn.preprocessing import LabelBinarizer, OneHotEncoder"
   ]
  },
  {
   "attachments": {},
   "cell_type": "markdown",
   "id": "2acdd453",
   "metadata": {},
   "source": [
    "### 3.1 Baseline: Naive Bayes"
   ]
  },
  {
   "attachments": {},
   "cell_type": "markdown",
   "id": "b4b85acf",
   "metadata": {},
   "source": [
    "#### Grid search"
   ]
  },
  {
   "cell_type": "code",
   "execution_count": null,
   "id": "e2123d69",
   "metadata": {
    "ExecuteTime": {
     "end_time": "2023-03-27T16:59:55.914096Z",
     "start_time": "2023-03-27T16:59:55.909611Z"
    }
   },
   "outputs": [],
   "source": [
    "def dummy_tokenizer(sentence):\n",
    "    return sentence"
   ]
  },
  {
   "cell_type": "code",
   "execution_count": null,
   "id": "e97c6276",
   "metadata": {
    "ExecuteTime": {
     "end_time": "2023-03-27T16:59:55.968325Z",
     "start_time": "2023-03-27T16:59:55.919452Z"
    }
   },
   "outputs": [],
   "source": [
    "lb = LabelBinarizer()\n",
    "y_train = lb.fit_transform(train['stance'])"
   ]
  },
  {
   "cell_type": "code",
   "execution_count": null,
   "id": "4ab77f36",
   "metadata": {
    "ExecuteTime": {
     "end_time": "2023-03-27T16:59:55.986649Z",
     "start_time": "2023-03-27T16:59:55.978346Z"
    }
   },
   "outputs": [],
   "source": [
    "scoring = ['accuracy', 'f1_macro', 'precision', 'recall']"
   ]
  },
  {
   "cell_type": "code",
   "execution_count": null,
   "id": "f8f14e54",
   "metadata": {
    "ExecuteTime": {
     "end_time": "2023-03-27T16:59:56.005086Z",
     "start_time": "2023-03-27T16:59:55.996939Z"
    }
   },
   "outputs": [],
   "source": [
    "pipe = Pipeline([('preproc', TfidfVectorizer()), ('nb', MultinomialNB())])"
   ]
  },
  {
   "cell_type": "code",
   "execution_count": null,
   "id": "eb59ea2e",
   "metadata": {
    "ExecuteTime": {
     "end_time": "2023-03-27T09:34:37.075790Z",
     "start_time": "2023-03-27T09:34:37.070370Z"
    }
   },
   "outputs": [],
   "source": [
    "params = [\n",
    "    {'preproc': [TfidfVectorizer()],\n",
    "     'preproc__tokenizer': [dummy_tokenizer],\n",
    "     'preproc__preprocessor': [dummy_tokenizer],\n",
    "     'preproc__token_pattern': [None],\n",
    "     #'preproc__min_df': [1, 10, 20, 50, 100, 200],\n",
    "     'preproc__min_df': np.arange(1,6,1),\n",
    "     #'preproc__max_features': [None, 100, 200, 500],\n",
    "     'preproc__ngram_range': [(1,1), (1,2), (1,3)],\n",
    "     #'preproc__ngram_range': [(1,1)],\n",
    "     \n",
    "     'nb': [MultinomialNB()],\n",
    "     #'nb__alpha': [0.0001, 0.001, 0.01, 0.1, 1, 10, 100]\n",
    "     #'nb__alpha': [0.01, 0.05, 0.08, 0.1, 0.5, 0.8, 1, 5, 8]\n",
    "     'nb__alpha': np.arange(0.1,0.6,0.01)\n",
    "    }\n",
    "]"
   ]
  },
  {
   "cell_type": "code",
   "execution_count": null,
   "id": "caeb961f",
   "metadata": {
    "ExecuteTime": {
     "end_time": "2023-03-27T09:34:37.515961Z",
     "start_time": "2023-03-27T09:34:37.509425Z"
    }
   },
   "outputs": [],
   "source": [
    "clf = GridSearchCV(estimator=pipe, param_grid=params, scoring=scoring, refit='f1_macro',\n",
    "                   cv=3, return_train_score=True, n_jobs=-1, verbose=0)"
   ]
  },
  {
   "cell_type": "code",
   "execution_count": null,
   "id": "0d754970",
   "metadata": {
    "ExecuteTime": {
     "end_time": "2023-03-27T09:35:43.279554Z",
     "start_time": "2023-03-27T09:34:37.970000Z"
    },
    "scrolled": true
   },
   "outputs": [],
   "source": [
    "clf.fit(train['arg_tok'], y_train.ravel())"
   ]
  },
  {
   "cell_type": "code",
   "execution_count": null,
   "id": "8fec840c",
   "metadata": {
    "ExecuteTime": {
     "end_time": "2023-03-27T09:35:43.330371Z",
     "start_time": "2023-03-27T09:35:43.293048Z"
    }
   },
   "outputs": [],
   "source": [
    "clf.best_params_"
   ]
  },
  {
   "cell_type": "code",
   "execution_count": null,
   "id": "8d94ff18",
   "metadata": {
    "ExecuteTime": {
     "end_time": "2023-03-27T09:35:43.377093Z",
     "start_time": "2023-03-27T09:35:43.339577Z"
    }
   },
   "outputs": [],
   "source": [
    "#pd.DataFrame(clf.cv_results_).sort_values(by='rank_test_f1_macro')[['mean_test_f1_macro', 'param_nb', 'param_preproc__ngram_range', 'param_preproc__min_df']][:50]\n",
    "#tmp = pd.DataFrame(clf.cv_results_).sort_values(by='rank_test_f1_macro')[['mean_test_f1_macro', 'param_nb', 'param_preproc__ngram_range', 'param_preproc__min_df']][:600]\n",
    "#tmp.groupby(by='param_preproc__min_df').count()\n"
   ]
  },
  {
   "cell_type": "code",
   "execution_count": null,
   "id": "c94c7dbf",
   "metadata": {
    "ExecuteTime": {
     "end_time": "2023-03-27T09:35:45.471620Z",
     "start_time": "2023-03-27T09:35:43.383430Z"
    }
   },
   "outputs": [],
   "source": [
    "#pd.DataFrame(clf.cv_results_).to_csv(models_path+'nb_gridsearch.csv')"
   ]
  },
  {
   "attachments": {},
   "cell_type": "markdown",
   "id": "0bce6a66",
   "metadata": {},
   "source": [
    "#### Evaluation"
   ]
  },
  {
   "cell_type": "code",
   "execution_count": null,
   "id": "588ac781",
   "metadata": {
    "ExecuteTime": {
     "end_time": "2023-03-27T09:36:34.169815Z",
     "start_time": "2023-03-27T09:36:34.100434Z"
    }
   },
   "outputs": [],
   "source": [
    "best_clf = clf.best_estimator_\n",
    "best_clf.fit(train['arg_tok'], y_train.ravel())\n",
    "pred_test = best_clf.predict(test['arg_tok'])\n",
    "y_test = lb.transform(test['stance'])"
   ]
  },
  {
   "cell_type": "code",
   "execution_count": null,
   "id": "2d552373",
   "metadata": {
    "ExecuteTime": {
     "end_time": "2023-03-27T09:39:45.140731Z",
     "start_time": "2023-03-27T09:39:44.743902Z"
    }
   },
   "outputs": [],
   "source": [
    "cm = confusion_matrix(y_test, pred_test)\n",
    "fig, ax = plt.subplots(figsize=(5,5))\n",
    "ConfusionMatrixDisplay(confusion_matrix=cm, display_labels=lb.inverse_transform(clf.classes_)).plot(ax=ax)\n",
    "plt.savefig(plots_path+'nb_cm.png', bbox_inches =\"tight\")"
   ]
  },
  {
   "cell_type": "code",
   "execution_count": null,
   "id": "3c96ae91",
   "metadata": {
    "ExecuteTime": {
     "end_time": "2023-03-27T09:40:13.463278Z",
     "start_time": "2023-03-27T09:40:13.440384Z"
    }
   },
   "outputs": [],
   "source": [
    "print(classification_report(y_test, pred_test))"
   ]
  },
  {
   "cell_type": "code",
   "execution_count": null,
   "id": "e2dcdbde",
   "metadata": {},
   "outputs": [],
   "source": [
    "tmp = test.copy()\n",
    "tmp['pred'] = lb.inverse_transform(pred_test)"
   ]
  },
  {
   "cell_type": "code",
   "execution_count": null,
   "id": "2194aaaa",
   "metadata": {},
   "outputs": [],
   "source": [
    "tmp['TP'] = tmp.apply(lambda row: row['stance'] == row['pred'] and row['stance'] == 'PRO', axis=1)\n",
    "tmp['TN'] = tmp.apply(lambda row: row['stance'] == row['pred'] and row['stance'] == 'CON', axis=1)\n",
    "tmp['FP'] = tmp.apply(lambda row: row['stance'] != row['pred'] and row['stance'] == 'CON', axis=1)\n",
    "tmp['FN'] = tmp.apply(lambda row: row['stance'] != row['pred'] and row['stance'] == 'PRO', axis=1)\n",
    "tmp['T'] = tmp.apply(lambda row: row['stance'] == row['pred'], axis=1)\n",
    "tmp['F'] = tmp.apply(lambda row: row['stance'] != row['pred'], axis=1)\n",
    "tmp = tmp.groupby(by='topic').agg({'TP': 'sum',\n",
    "                                   'TN': 'sum',\n",
    "                                   'FP': 'sum',\n",
    "                                   'FN': 'sum',\n",
    "                                   'T': 'sum',\n",
    "                                   'F': 'sum'}).reset_index()\n",
    "tmp.sort_values(by='topic', inplace=True)"
   ]
  },
  {
   "cell_type": "code",
   "execution_count": null,
   "id": "bb87453b",
   "metadata": {},
   "outputs": [],
   "source": [
    "plt.bar(tmp['topic'], tmp['T']/(tmp['T']+tmp['F'])*100, label='Correctly predicted')\n",
    "plt.bar(tmp['topic'], tmp['F']/(tmp['T']+tmp['F'])*100, bottom=tmp['T']/(tmp['T']+tmp['F'])*100, label='Incorrectly predicted')\n",
    "plt.title('Percentage of correctly and incorrectly predicted arguments by categories')\n",
    "plt.ylabel('Percentage of arguments')\n",
    "plt.yticks(np.arange(0,110,10))\n",
    "plt.xticks(rotation=90)\n",
    "plt.grid(axis='y', alpha=0.3)\n",
    "plt.legend()\n",
    "plt.savefig(plots_path+'nb_prediction_percentage.png', bbox_inches ='tight')\n",
    "plt.show()"
   ]
  },
  {
   "cell_type": "code",
   "execution_count": null,
   "id": "fe54a644",
   "metadata": {},
   "outputs": [],
   "source": [
    "plt.bar(tmp['topic'], tmp['TP'], label='TP')\n",
    "plt.bar(tmp['topic'], tmp['TN'], bottom=tmp['TP'], label='TN')\n",
    "plt.bar(tmp['topic'], tmp['FP'], bottom=tmp['TP']+tmp['TN'], label='FP')\n",
    "plt.bar(tmp['topic'], tmp['FN'], bottom=tmp['TP']+tmp['TN']+tmp['FP'], label='FN')\n",
    "plt.title('Confusion matrix by categories')\n",
    "plt.ylabel('# of arguments')\n",
    "plt.yticks(np.arange(0,65,5))\n",
    "plt.xticks(rotation=90)\n",
    "plt.grid(axis='y', alpha=0.3)\n",
    "plt.legend()\n",
    "plt.savefig(plots_path+'nb_cm_categories.png', bbox_inches ='tight')\n",
    "plt.show()"
   ]
  },
  {
   "attachments": {},
   "cell_type": "markdown",
   "id": "3bc8de99",
   "metadata": {},
   "source": [
    "#### Shap analysis"
   ]
  },
  {
   "cell_type": "code",
   "execution_count": null,
   "id": "7fbd136e",
   "metadata": {},
   "outputs": [],
   "source": [
    "explainer = shap.Explainer(best_clf.named_steps['nb'].predict,\n",
    "                           best_clf.named_steps['preproc'].transform(train['arg_tok']).toarray(),\n",
    "                           feature_names=best_clf.named_steps['preproc'].get_feature_names_out())"
   ]
  },
  {
   "cell_type": "code",
   "execution_count": null,
   "id": "bf66667e",
   "metadata": {},
   "outputs": [],
   "source": [
    "## 15min\n",
    "shap_values = explainer(best_clf.named_steps['preproc'].transform(test['arg_tok'][:20]).toarray(), max_evals='auto')"
   ]
  },
  {
   "cell_type": "code",
   "execution_count": null,
   "id": "6198ec87",
   "metadata": {},
   "outputs": [],
   "source": [
    "shap.plots.beeswarm(shap_values, max_display=10, order=shap_values.abs.max(0), show=False)\n",
    "plt.savefig(plots_path+'nb_shap_beeswarm.png', bbox_inches ='tight')\n",
    "plt.show()"
   ]
  },
  {
   "cell_type": "code",
   "execution_count": null,
   "id": "07b3de0c",
   "metadata": {},
   "outputs": [],
   "source": [
    "test['stance'][:10]"
   ]
  },
  {
   "cell_type": "code",
   "execution_count": null,
   "id": "dca52dac",
   "metadata": {},
   "outputs": [],
   "source": [
    "#shap.force_plot(shap_values[0])\n",
    "shap.force_plot(shap_values[5], link='logit', matplotlib=True, show=False) \n",
    "plt.savefig(plots_path+'nb_shap_force_PRO.png', bbox_inches ='tight')\n",
    "plt.show()"
   ]
  },
  {
   "cell_type": "code",
   "execution_count": null,
   "id": "a910d446",
   "metadata": {},
   "outputs": [],
   "source": [
    "shap.force_plot(shap_values[18], link='logit', matplotlib=True, show=False) \n",
    "plt.savefig(plots_path+'nb_shap_force_CON.png', bbox_inches ='tight')\n",
    "plt.show()"
   ]
  },
  {
   "cell_type": "code",
   "execution_count": null,
   "id": "ad2872f7",
   "metadata": {},
   "outputs": [],
   "source": [
    "shap.plots.heatmap(shap_values, instance_order=shap_values.sum(1), max_display=10, show=False)\n",
    "plt.savefig(plots_path+'nb_shap_heatmap.png', bbox_inches ='tight')\n",
    "plt.show()"
   ]
  },
  {
   "cell_type": "code",
   "execution_count": null,
   "id": "7821520b",
   "metadata": {},
   "outputs": [],
   "source": [
    "shap.plots.waterfall(shap_values[5], max_display=10, show=False)\n",
    "plt.savefig(plots_path+'nb_shap_waterfall_PRO.png', bbox_inches ='tight')\n",
    "plt.show()"
   ]
  },
  {
   "cell_type": "code",
   "execution_count": null,
   "id": "02db6a79",
   "metadata": {},
   "outputs": [],
   "source": [
    "shap.plots.waterfall(shap_values[18], max_display=10, show=False)\n",
    "plt.savefig(plots_path+'nb_shap_waterfall_CON.png', bbox_inches ='tight')\n",
    "plt.show()"
   ]
  },
  {
   "attachments": {},
   "cell_type": "markdown",
   "id": "14f016f4",
   "metadata": {},
   "source": [
    "### 3.2 SVM"
   ]
  },
  {
   "attachments": {},
   "cell_type": "markdown",
   "id": "854c7529",
   "metadata": {},
   "source": [
    "#### Grid search"
   ]
  },
  {
   "cell_type": "code",
   "execution_count": null,
   "id": "08d92dbe",
   "metadata": {
    "ExecuteTime": {
     "end_time": "2023-03-27T16:59:56.029734Z",
     "start_time": "2023-03-27T16:59:56.021283Z"
    }
   },
   "outputs": [],
   "source": [
    "def dummy_tokenizer(sentence):\n",
    "    return sentence"
   ]
  },
  {
   "cell_type": "code",
   "execution_count": null,
   "id": "887b32d2",
   "metadata": {
    "ExecuteTime": {
     "end_time": "2023-03-27T16:59:56.046014Z",
     "start_time": "2023-03-27T16:59:56.035768Z"
    }
   },
   "outputs": [],
   "source": [
    "scoring = ['accuracy', 'f1_macro', 'precision', 'recall']"
   ]
  },
  {
   "cell_type": "code",
   "execution_count": null,
   "id": "228bfa57",
   "metadata": {
    "ExecuteTime": {
     "end_time": "2023-03-27T16:59:56.064201Z",
     "start_time": "2023-03-27T16:59:56.054355Z"
    }
   },
   "outputs": [],
   "source": [
    "pipe = Pipeline([('preproc', TfidfVectorizer()), ('svm', SVC())])"
   ]
  },
  {
   "cell_type": "code",
   "execution_count": null,
   "id": "3526b6f6",
   "metadata": {
    "ExecuteTime": {
     "end_time": "2023-03-27T19:28:06.095572Z",
     "start_time": "2023-03-27T19:28:06.086468Z"
    }
   },
   "outputs": [],
   "source": [
    "params = [\n",
    "    #{'preproc': [TfidfVectorizer()],\n",
    "     #'preproc__tokenizer': [dummy_tokenizer],\n",
    "     #'preproc__preprocessor': [dummy_tokenizer],\n",
    "     #'preproc__token_pattern': [None],\n",
    "     #'preproc__min_df': [1, 10, 20, 50, 100],\n",
    "     #'preproc__min_df': np.arange(1,11,1),\n",
    "     #'preproc__max_features': [None, 100, 200, 300, 400, 500, 600],\n",
    "     #'preproc__ngram_range': [(1,1), (1,2), (1,3), (2,3), (1,4)],\n",
    "     #'preproc__ngram_range': [(1,1), (1,2), (1,3)],\n",
    "     #'preproc__ngram_range': [(1,1)],\n",
    "     \n",
    "     #'svm': [SVC()],\n",
    "     #'svm__C': [0.1, 1, 2, 5, 10, 50],\n",
    "     #'svm__C': np.arange(1,20,1),\n",
    "     #'svm__C': np.arange(1,6,1),\n",
    "     #'svm__kernel': ['poly'],\n",
    "     #'svm__degree': [2, 3, 4, 5],\n",
    "     #'svm__degree': np.arange(2,10,1),\n",
    "     #'svm__degree': np.arange(2,6,1),\n",
    "     #'svm__gamma': ['scale'],\n",
    "     #'svm__shrinking': [True, False],     \n",
    "    #},\n",
    "    \n",
    "    {'preproc': [TfidfVectorizer()],\n",
    "     'preproc__tokenizer': [dummy_tokenizer],\n",
    "     'preproc__preprocessor': [dummy_tokenizer],\n",
    "     'preproc__token_pattern': [None],\n",
    "     #'preproc__min_df': [1, 10, 20, 50, 100],\n",
    "     #'preproc__min_df': np.arange(1,10,1),\n",
    "     'preproc__min_df': np.arange(1,6,1),\n",
    "     #'preproc__max_features': [None, 100, 200, 300, 400, 500, 600],\n",
    "     #'preproc__ngram_range': [(1,1), (1,2), (1,3), (2,3), (1,4)],\n",
    "     'preproc__ngram_range': [(1,1), (1,2), (1,3)],\n",
    "     #'preproc__ngram_range': [(1,1)],\n",
    "     \n",
    "     'svm': [SVC()],\n",
    "     #'svm__C': [0.1, 1, 2, 5, 10, 50],\n",
    "     'svm__C': np.arange(0.1,2.5,0.1),\n",
    "     #'svm__C': [1, 5, 10],\n",
    "     #'svm__kernel': ['rbf', 'sigmoid'],\n",
    "     'svm__kernel': ['rbf'],\n",
    "     'svm__gamma': ['scale'],\n",
    "     #'svm__shrinking': [True, False],     \n",
    "    },\n",
    "]"
   ]
  },
  {
   "cell_type": "code",
   "execution_count": null,
   "id": "865cb9d4",
   "metadata": {
    "ExecuteTime": {
     "end_time": "2023-03-27T19:28:08.681753Z",
     "start_time": "2023-03-27T19:28:08.674815Z"
    }
   },
   "outputs": [],
   "source": [
    "clf = GridSearchCV(estimator=pipe, param_grid=params, scoring=scoring, refit='f1_macro',\n",
    "                   cv=3, return_train_score=True, n_jobs=-1, verbose=0)"
   ]
  },
  {
   "cell_type": "code",
   "execution_count": null,
   "id": "05db5fb6",
   "metadata": {
    "ExecuteTime": {
     "end_time": "2023-03-27T19:33:32.432991Z",
     "start_time": "2023-03-27T19:28:09.855228Z"
    },
    "scrolled": true
   },
   "outputs": [],
   "source": [
    "clf.fit(train['arg_tok'], y_train.ravel())"
   ]
  },
  {
   "cell_type": "code",
   "execution_count": null,
   "id": "fe2cf40b",
   "metadata": {
    "ExecuteTime": {
     "end_time": "2023-03-27T19:33:32.447954Z",
     "start_time": "2023-03-27T19:33:32.438910Z"
    }
   },
   "outputs": [],
   "source": [
    "clf.best_params_"
   ]
  },
  {
   "cell_type": "code",
   "execution_count": null,
   "id": "9b0b5517",
   "metadata": {
    "ExecuteTime": {
     "end_time": "2023-03-27T19:33:32.459879Z",
     "start_time": "2023-03-27T19:33:32.453223Z"
    }
   },
   "outputs": [],
   "source": [
    "#pd.DataFrame(clf.cv_results_).sort_values(by='rank_test_f1_macro')[['mean_test_f1_macro', 'param_svm__kernel', 'param_svm__C', 'param_preproc__ngram_range', 'param_preproc__min_df']][:60]\n",
    "#tmp = pd.DataFrame(clf.cv_results_).sort_values(by='rank_test_f1_macro')[['mean_test_f1_macro', 'param_svm__C', 'param_svm__degree', 'param_preproc__min_df', 'param_preproc__ngram_range']][:120]\n",
    "#tmp.groupby(by=['param_preproc__min_df', 'param_preproc__ngram_range']).count()\n"
   ]
  },
  {
   "cell_type": "code",
   "execution_count": null,
   "id": "755fb9c6",
   "metadata": {
    "ExecuteTime": {
     "end_time": "2023-03-27T19:33:32.505850Z",
     "start_time": "2023-03-27T19:33:32.497458Z"
    }
   },
   "outputs": [],
   "source": [
    "#pd.DataFrame(clf.cv_results_).to_csv(models_path+'svc_gridsearch3.csv')"
   ]
  },
  {
   "attachments": {},
   "cell_type": "markdown",
   "id": "28da77e2",
   "metadata": {},
   "source": [
    "#### Evaluation"
   ]
  },
  {
   "cell_type": "code",
   "execution_count": null,
   "id": "76e37839",
   "metadata": {
    "ExecuteTime": {
     "end_time": "2023-03-27T19:33:32.823000Z",
     "start_time": "2023-03-27T19:33:32.511482Z"
    }
   },
   "outputs": [],
   "source": [
    "best_clf = clf.best_estimator_\n",
    "best_clf.fit(train['arg_tok'], y_train.ravel())\n",
    "pred_test = best_clf.predict(test['arg_tok'])\n",
    "y_test = lb.transform(test['stance'])"
   ]
  },
  {
   "cell_type": "code",
   "execution_count": null,
   "id": "feb00748",
   "metadata": {
    "ExecuteTime": {
     "end_time": "2023-03-27T19:33:33.285979Z",
     "start_time": "2023-03-27T19:33:32.826537Z"
    }
   },
   "outputs": [],
   "source": [
    "cm = confusion_matrix(y_test, pred_test)\n",
    "fig, ax = plt.subplots(figsize=(5,5))\n",
    "ConfusionMatrixDisplay(confusion_matrix=cm, display_labels=lb.inverse_transform(clf.classes_)).plot(ax=ax)\n",
    "plt.savefig(plots_path+'svc_cm.png', bbox_inches =\"tight\")"
   ]
  },
  {
   "cell_type": "code",
   "execution_count": null,
   "id": "933f5fc5",
   "metadata": {
    "ExecuteTime": {
     "end_time": "2023-03-27T19:33:33.313777Z",
     "start_time": "2023-03-27T19:33:33.290542Z"
    }
   },
   "outputs": [],
   "source": [
    "print(classification_report(y_test, pred_test))"
   ]
  },
  {
   "cell_type": "code",
   "execution_count": null,
   "id": "87b0cafa",
   "metadata": {},
   "outputs": [],
   "source": [
    "tmp = test.copy()\n",
    "tmp['pred'] = lb.inverse_transform(pred_test)"
   ]
  },
  {
   "cell_type": "code",
   "execution_count": null,
   "id": "b47fdf2d",
   "metadata": {},
   "outputs": [],
   "source": [
    "tmp['TP'] = tmp.apply(lambda row: row['stance'] == row['pred'] and row['stance'] == 'PRO', axis=1)\n",
    "tmp['TN'] = tmp.apply(lambda row: row['stance'] == row['pred'] and row['stance'] == 'CON', axis=1)\n",
    "tmp['FP'] = tmp.apply(lambda row: row['stance'] != row['pred'] and row['stance'] == 'CON', axis=1)\n",
    "tmp['FN'] = tmp.apply(lambda row: row['stance'] != row['pred'] and row['stance'] == 'PRO', axis=1)\n",
    "tmp['T'] = tmp.apply(lambda row: row['stance'] == row['pred'], axis=1)\n",
    "tmp['F'] = tmp.apply(lambda row: row['stance'] != row['pred'], axis=1)\n",
    "tmp = tmp.groupby(by='topic').agg({'TP': 'sum',\n",
    "                                   'TN': 'sum',\n",
    "                                   'FP': 'sum',\n",
    "                                   'FN': 'sum',\n",
    "                                   'T': 'sum',\n",
    "                                   'F': 'sum'}).reset_index()\n",
    "tmp.sort_values(by='topic', inplace=True)"
   ]
  },
  {
   "cell_type": "code",
   "execution_count": null,
   "id": "3058d385",
   "metadata": {},
   "outputs": [],
   "source": [
    "plt.bar(tmp['topic'], tmp['T']/(tmp['T']+tmp['F'])*100, label='Correctly predicted')\n",
    "plt.bar(tmp['topic'], tmp['F']/(tmp['T']+tmp['F'])*100, bottom=tmp['T']/(tmp['T']+tmp['F'])*100, label='Incorrectly predicted')\n",
    "plt.title('Percentage of correctly and incorrectly predicted arguments by categories')\n",
    "plt.ylabel('Percentage of arguments')\n",
    "plt.yticks(np.arange(0,110,10))\n",
    "plt.xticks(rotation=90)\n",
    "plt.grid(axis='y', alpha=0.3)\n",
    "plt.legend()\n",
    "plt.savefig(plots_path+'svc_prediction_percentage.png', bbox_inches ='tight')\n",
    "plt.show()"
   ]
  },
  {
   "cell_type": "code",
   "execution_count": null,
   "id": "b762e8d0",
   "metadata": {},
   "outputs": [],
   "source": [
    "plt.bar(tmp['topic'], tmp['TP'], label='TP')\n",
    "plt.bar(tmp['topic'], tmp['TN'], bottom=tmp['TP'], label='TN')\n",
    "plt.bar(tmp['topic'], tmp['FP'], bottom=tmp['TP']+tmp['TN'], label='FP')\n",
    "plt.bar(tmp['topic'], tmp['FN'], bottom=tmp['TP']+tmp['TN']+tmp['FP'], label='FN')\n",
    "plt.title('Confusion matrix by categories')\n",
    "plt.ylabel('# of arguments')\n",
    "plt.yticks(np.arange(0,65,5))\n",
    "plt.xticks(rotation=90)\n",
    "plt.grid(axis='y', alpha=0.3)\n",
    "plt.legend()\n",
    "plt.savefig(plots_path+'svc_cm_categories.png', bbox_inches ='tight')\n",
    "plt.show()"
   ]
  },
  {
   "attachments": {},
   "cell_type": "markdown",
   "id": "6d6cc02c",
   "metadata": {},
   "source": [
    "#### Shap analysis"
   ]
  },
  {
   "cell_type": "code",
   "execution_count": null,
   "id": "f81537ad",
   "metadata": {},
   "outputs": [],
   "source": [
    "explainer = shap.Explainer(best_clf.named_steps['svm'].predict,\n",
    "                           best_clf.named_steps['preproc'].transform(train['arg_tok']).toarray(),\n",
    "                           feature_names=best_clf.named_steps['preproc'].get_feature_names_out())"
   ]
  },
  {
   "cell_type": "code",
   "execution_count": null,
   "id": "16a4ed3c",
   "metadata": {},
   "outputs": [],
   "source": [
    "shap_values = explainer(best_clf.named_steps['preproc'].transform(test['arg_tok'][:20]).toarray(),\n",
    "                        max_evals='auto')"
   ]
  },
  {
   "cell_type": "code",
   "execution_count": null,
   "id": "b8d83613",
   "metadata": {},
   "outputs": [],
   "source": [
    "shap.plots.beeswarm(shap_values, max_display=10, order=shap_values.abs.max(0), show=False)\n",
    "plt.savefig(plots_path+'svc_shap_beeswarm.png', bbox_inches ='tight')\n",
    "plt.show()"
   ]
  },
  {
   "cell_type": "code",
   "execution_count": null,
   "id": "30638acc",
   "metadata": {},
   "outputs": [],
   "source": [
    "test['stance'][:10]"
   ]
  },
  {
   "cell_type": "code",
   "execution_count": null,
   "id": "ba12dadb",
   "metadata": {},
   "outputs": [],
   "source": [
    "#shap.force_plot(shap_values[0])\n",
    "shap.force_plot(shap_values[5], link='logit', matplotlib=True, show=False) \n",
    "plt.savefig(plots_path+'svc_shap_force_PRO.png', bbox_inches ='tight')\n",
    "plt.show()"
   ]
  },
  {
   "cell_type": "code",
   "execution_count": null,
   "id": "2a0cb4be",
   "metadata": {},
   "outputs": [],
   "source": [
    "shap.force_plot(shap_values[2], link='logit', matplotlib=True, show=False) \n",
    "plt.savefig(plots_path+'svc_shap_force_CON.png', bbox_inches ='tight')\n",
    "plt.show()"
   ]
  },
  {
   "cell_type": "code",
   "execution_count": null,
   "id": "2293953f",
   "metadata": {},
   "outputs": [],
   "source": [
    "shap.plots.heatmap(shap_values, instance_order=shap_values.sum(1), max_display=10, show=False)\n",
    "plt.savefig(plots_path+'svc_shap_heatmap.png', bbox_inches ='tight')\n",
    "plt.show()"
   ]
  },
  {
   "cell_type": "code",
   "execution_count": null,
   "id": "812c6dfd",
   "metadata": {},
   "outputs": [],
   "source": [
    "shap.plots.waterfall(shap_values[5], max_display=10, show=False)\n",
    "plt.savefig(plots_path+'svc_shap_waterfall_PRO.png', bbox_inches ='tight')\n",
    "plt.show()"
   ]
  },
  {
   "cell_type": "code",
   "execution_count": null,
   "id": "d8e57c95",
   "metadata": {},
   "outputs": [],
   "source": [
    "shap.plots.waterfall(shap_values[2], max_display=10, show=False)\n",
    "plt.savefig(plots_path+'svc_shap_waterfall_CON.png', bbox_inches ='tight')\n",
    "plt.show()"
   ]
  },
  {
   "attachments": {},
   "cell_type": "markdown",
   "id": "f8c3ac8f",
   "metadata": {},
   "source": [
    "### 3.3 BERT"
   ]
  },
  {
   "cell_type": "code",
   "execution_count": null,
   "id": "ac203e8e",
   "metadata": {},
   "outputs": [],
   "source": [
    "from transformers import AutoTokenizer, AutoModelForSequenceClassification, Trainer, TrainingArguments, EarlyStoppingCallback, pipeline\n",
    "import torch\n",
    "from datasets import Dataset, DatasetDict\n",
    "from sklearn.model_selection import train_test_split\n",
    "import evaluate\n",
    "import json"
   ]
  },
  {
   "attachments": {},
   "cell_type": "markdown",
   "id": "4b010318",
   "metadata": {},
   "source": [
    "#### Load and encode the dataset"
   ]
  },
  {
   "cell_type": "code",
   "execution_count": null,
   "id": "a08e547c",
   "metadata": {},
   "outputs": [],
   "source": [
    "train_bert, val_bert = train_test_split(train, test_size=0.2, random_state=42)"
   ]
  },
  {
   "cell_type": "code",
   "execution_count": null,
   "id": "76c2bb02",
   "metadata": {},
   "outputs": [],
   "source": [
    "train_bert = Dataset.from_pandas(train_bert[['argument', 'stance']], split='train', preserve_index=False)\n",
    "val_bert = Dataset.from_pandas(val_bert[['argument', 'stance']], split='validation', preserve_index=False)\n",
    "test_bert = Dataset.from_pandas(test[['argument', 'stance']], split='test', preserve_index=False)"
   ]
  },
  {
   "cell_type": "code",
   "execution_count": null,
   "id": "ad91c83f",
   "metadata": {},
   "outputs": [],
   "source": [
    "ibm_dataset = DatasetDict(train=train_bert, val=val_bert, test=test_bert)"
   ]
  },
  {
   "cell_type": "code",
   "execution_count": null,
   "id": "9de8cb2f",
   "metadata": {},
   "outputs": [],
   "source": [
    "id2label = {0: \"CON\", 1: \"PRO\"}\n",
    "label2id = {\"CON\": 0, \"PRO\": 1}\n",
    "tokenizer = AutoTokenizer.from_pretrained(\"bert-base-uncased\")"
   ]
  },
  {
   "cell_type": "code",
   "execution_count": null,
   "id": "8e6e18ee",
   "metadata": {},
   "outputs": [],
   "source": [
    "def preprocess_data(data):\n",
    "    encoding = tokenizer(data['argument'], padding=True, truncation=True)\n",
    "    encoding['labels'] = [label2id[l] for l in data['stance']]\n",
    "    return encoding"
   ]
  },
  {
   "cell_type": "code",
   "execution_count": null,
   "id": "d2d56c07",
   "metadata": {},
   "outputs": [],
   "source": [
    "tokenized_dataset = ibm_dataset.map(preprocess_data, batched=True, batch_size=16, remove_columns=['argument', 'stance'])"
   ]
  },
  {
   "cell_type": "code",
   "execution_count": null,
   "id": "ff579a0d",
   "metadata": {},
   "outputs": [],
   "source": [
    "tokenized_dataset.set_format('torch')"
   ]
  },
  {
   "attachments": {},
   "cell_type": "markdown",
   "id": "43dde018",
   "metadata": {},
   "source": [
    "#### Finetune the model"
   ]
  },
  {
   "cell_type": "code",
   "execution_count": null,
   "id": "ee24faa6",
   "metadata": {},
   "outputs": [],
   "source": [
    "model = AutoModelForSequenceClassification.from_pretrained(\"bert-base-uncased\", num_labels=2, id2label=id2label, label2id=label2id)"
   ]
  },
  {
   "cell_type": "code",
   "execution_count": null,
   "id": "054d1311",
   "metadata": {},
   "outputs": [],
   "source": [
    "arguments = TrainingArguments(\n",
    "    output_dir=models_path+'bert',\n",
    "    per_device_train_batch_size=16,\n",
    "    per_device_eval_batch_size=16,\n",
    "    num_train_epochs=5,\n",
    "    evaluation_strategy='epoch',\n",
    "    save_strategy='epoch',\n",
    "    learning_rate=2e-5,\n",
    "    weight_decay=0.01,\n",
    "    metric_for_best_model='f1',\n",
    "    load_best_model_at_end=True,\n",
    ")"
   ]
  },
  {
   "cell_type": "code",
   "execution_count": null,
   "id": "efae486c",
   "metadata": {},
   "outputs": [],
   "source": [
    "metrics = evaluate.combine([\"accuracy\", \"f1\", \"precision\", \"recall\"])\n",
    "\n",
    "def compute_metrics(eval_pred):\n",
    "    logits, labels = eval_pred\n",
    "    predictions = np.argmax(logits, axis=-1)\n",
    "    return metrics.compute(predictions=predictions, references=labels, average='macro')"
   ]
  },
  {
   "cell_type": "code",
   "execution_count": null,
   "id": "5faa9f07",
   "metadata": {},
   "outputs": [],
   "source": [
    "trainer = Trainer(\n",
    "    model=model,\n",
    "    args=arguments,\n",
    "    train_dataset=tokenized_dataset['train'],\n",
    "    eval_dataset=tokenized_dataset['val'],\n",
    "    tokenizer=tokenizer,\n",
    "    compute_metrics=compute_metrics\n",
    ")\n",
    "\n",
    "trainer.add_callback(EarlyStoppingCallback())"
   ]
  },
  {
   "cell_type": "code",
   "execution_count": null,
   "id": "1dc7882a",
   "metadata": {},
   "outputs": [],
   "source": [
    "trainer.train()"
   ]
  },
  {
   "cell_type": "code",
   "execution_count": null,
   "id": "66608d52",
   "metadata": {},
   "outputs": [],
   "source": [
    "trainer.state.save_to_json(models_path+'bert/training_state.json')"
   ]
  },
  {
   "cell_type": "code",
   "execution_count": null,
   "id": "1450dfda",
   "metadata": {},
   "outputs": [],
   "source": [
    "with open(models_path+'bert/train_metrics.json', 'w') as fp:\n",
    "    json.dump(trainer.evaluate(tokenized_dataset['train']), fp)"
   ]
  },
  {
   "cell_type": "code",
   "execution_count": null,
   "id": "203e1da7",
   "metadata": {},
   "outputs": [],
   "source": [
    "with open(models_path+'bert/val_metrics.json', 'w') as fp:\n",
    "    json.dump(trainer.evaluate(tokenized_dataset['val']), fp)"
   ]
  },
  {
   "cell_type": "code",
   "execution_count": null,
   "id": "fa95c801",
   "metadata": {},
   "outputs": [],
   "source": [
    "with open(models_path+'bert/test_metrics.json', 'w') as fp:\n",
    "    json.dump(trainer.evaluate(tokenized_dataset['test']), fp)"
   ]
  },
  {
   "cell_type": "code",
   "execution_count": null,
   "id": "4f3e4512",
   "metadata": {},
   "outputs": [],
   "source": [
    "#test_pred = trainer.predict(tokenized_dataset['test'])\n",
    "#y_pred = test_pred.predictions.argmax(axis=-1)"
   ]
  },
  {
   "attachments": {},
   "cell_type": "markdown",
   "id": "2d7b1844",
   "metadata": {},
   "source": [
    "#### Evaluate the model"
   ]
  },
  {
   "cell_type": "code",
   "execution_count": null,
   "id": "0dd17cef",
   "metadata": {},
   "outputs": [],
   "source": [
    "finetuned_model = AutoModelForSequenceClassification.from_pretrained(models_path+'bert/checkpoint-240')\n",
    "id2label = {0: \"CON\", 1: \"PRO\"}\n",
    "label2id = {\"CON\": 0, \"PRO\": 1}\n",
    "tokenizer = AutoTokenizer.from_pretrained(\"bert-base-uncased\")"
   ]
  },
  {
   "cell_type": "code",
   "execution_count": null,
   "id": "e9fafdf8",
   "metadata": {},
   "outputs": [],
   "source": [
    "model_inputs = tokenizer(test['argument'].to_list(), return_tensors='pt', padding=True, truncation=True)"
   ]
  },
  {
   "cell_type": "code",
   "execution_count": null,
   "id": "f29005e3",
   "metadata": {},
   "outputs": [],
   "source": [
    "with torch.no_grad():\n",
    "    pred = finetuned_model(**model_inputs)"
   ]
  },
  {
   "cell_type": "code",
   "execution_count": null,
   "id": "33e8a9af",
   "metadata": {},
   "outputs": [],
   "source": [
    "y_pred = torch.argmax(pred.logits, axis=-1).numpy()"
   ]
  },
  {
   "cell_type": "code",
   "execution_count": null,
   "id": "d6f2bf79",
   "metadata": {},
   "outputs": [],
   "source": [
    "y_test = [label2id[l] for l in test['stance']]"
   ]
  },
  {
   "cell_type": "code",
   "execution_count": null,
   "id": "0884bc01",
   "metadata": {},
   "outputs": [],
   "source": [
    "cm = confusion_matrix(y_test, y_pred, labels=[0,1])\n",
    "fig, ax = plt.subplots(figsize=(5,5))\n",
    "ConfusionMatrixDisplay(confusion_matrix=cm, display_labels=['CON', 'PRO']).plot(ax=ax)\n",
    "plt.savefig(plots_path+'bert_cm.png', bbox_inches =\"tight\")"
   ]
  },
  {
   "cell_type": "code",
   "execution_count": null,
   "id": "242848d1",
   "metadata": {},
   "outputs": [],
   "source": [
    "print(classification_report(y_test, y_pred))"
   ]
  },
  {
   "cell_type": "code",
   "execution_count": null,
   "id": "38590af9",
   "metadata": {},
   "outputs": [],
   "source": [
    "tmp = test.copy()\n",
    "tmp['pred'] = [id2label[i] for i in y_pred]"
   ]
  },
  {
   "cell_type": "code",
   "execution_count": null,
   "id": "1107e23d",
   "metadata": {},
   "outputs": [],
   "source": [
    "tmp['TP'] = tmp.apply(lambda row: row['stance'] == row['pred'] and row['stance'] == 'PRO', axis=1)\n",
    "tmp['TN'] = tmp.apply(lambda row: row['stance'] == row['pred'] and row['stance'] == 'CON', axis=1)\n",
    "tmp['FP'] = tmp.apply(lambda row: row['stance'] != row['pred'] and row['stance'] == 'CON', axis=1)\n",
    "tmp['FN'] = tmp.apply(lambda row: row['stance'] != row['pred'] and row['stance'] == 'PRO', axis=1)\n",
    "tmp['T'] = tmp.apply(lambda row: row['stance'] == row['pred'], axis=1)\n",
    "tmp['F'] = tmp.apply(lambda row: row['stance'] != row['pred'], axis=1)\n",
    "tmp = tmp.groupby(by='topic').agg({'TP': 'sum',\n",
    "                                   'TN': 'sum',\n",
    "                                   'FP': 'sum',\n",
    "                                   'FN': 'sum',\n",
    "                                   'T': 'sum',\n",
    "                                   'F': 'sum'}).reset_index()\n",
    "tmp.sort_values(by='topic', inplace=True)"
   ]
  },
  {
   "cell_type": "code",
   "execution_count": null,
   "id": "cf8aa910",
   "metadata": {},
   "outputs": [],
   "source": [
    "plt.bar(tmp['topic'], tmp['T']/(tmp['T']+tmp['F'])*100, label='Correctly predicted')\n",
    "plt.bar(tmp['topic'], tmp['F']/(tmp['T']+tmp['F'])*100, bottom=tmp['T']/(tmp['T']+tmp['F'])*100, label='Incorrectly predicted')\n",
    "plt.title('Percentage of correctly and incorrectly predicted arguments by categories')\n",
    "plt.ylabel('Percentage of arguments')\n",
    "plt.yticks(np.arange(0,110,10))\n",
    "plt.xticks(rotation=90)\n",
    "plt.grid(axis='y', alpha=0.3)\n",
    "plt.legend()\n",
    "plt.savefig(plots_path+'bert_prediction_percentage.png', bbox_inches ='tight')\n",
    "plt.show()"
   ]
  },
  {
   "cell_type": "code",
   "execution_count": null,
   "id": "7405e636",
   "metadata": {},
   "outputs": [],
   "source": [
    "plt.bar(tmp['topic'], tmp['TP'], label='TP')\n",
    "plt.bar(tmp['topic'], tmp['TN'], bottom=tmp['TP'], label='TN')\n",
    "plt.bar(tmp['topic'], tmp['FP'], bottom=tmp['TP']+tmp['TN'], label='FP')\n",
    "plt.bar(tmp['topic'], tmp['FN'], bottom=tmp['TP']+tmp['TN']+tmp['FP'], label='FN')\n",
    "plt.title('Confusion matrix by categories')\n",
    "plt.ylabel('# of arguments')\n",
    "plt.yticks(np.arange(0,65,5))\n",
    "plt.xticks(rotation=90)\n",
    "plt.grid(axis='y', alpha=0.3)\n",
    "plt.legend()\n",
    "plt.savefig(plots_path+'bert_cm_categories.png', bbox_inches ='tight')\n",
    "plt.show()"
   ]
  },
  {
   "attachments": {},
   "cell_type": "markdown",
   "id": "e2146df5",
   "metadata": {},
   "source": [
    "#### Shap analysis"
   ]
  },
  {
   "cell_type": "code",
   "execution_count": null,
   "id": "dee16adb",
   "metadata": {},
   "outputs": [],
   "source": [
    "pred = pipeline(\"text-classification\", model=finetuned_model, tokenizer=tokenizer)"
   ]
  },
  {
   "cell_type": "code",
   "execution_count": null,
   "id": "2a721f9f",
   "metadata": {},
   "outputs": [],
   "source": [
    "explainer = shap.Explainer(pred)"
   ]
  },
  {
   "cell_type": "code",
   "execution_count": null,
   "id": "fffe38cb",
   "metadata": {},
   "outputs": [],
   "source": [
    "shap_values = explainer(test['argument'][:20])"
   ]
  },
  {
   "cell_type": "code",
   "execution_count": null,
   "id": "a312211d",
   "metadata": {},
   "outputs": [],
   "source": [
    "shap.plots.bar(shap_values[:,:,1].mean(0), max_display=10, show=False)\n",
    "plt.savefig(plots_path+'bert_shap_PRO.png', bbox_inches ='tight')\n",
    "plt.show()"
   ]
  },
  {
   "cell_type": "code",
   "execution_count": null,
   "id": "26f730dc",
   "metadata": {},
   "outputs": [],
   "source": [
    "shap.plots.bar(shap_values[:,:,0].mean(0), max_display=10, show=False)\n",
    "plt.savefig(plots_path+'bert_shap_CON.png', bbox_inches ='tight')\n",
    "plt.show()"
   ]
  },
  {
   "cell_type": "code",
   "execution_count": null,
   "id": "502eb115",
   "metadata": {},
   "outputs": [],
   "source": [
    "test['stance'][0:10]"
   ]
  },
  {
   "cell_type": "code",
   "execution_count": null,
   "id": "b158ba2a",
   "metadata": {},
   "outputs": [],
   "source": [
    "shap.plots.waterfall(shap_values[0,:,1], max_display=10, show=False)\n",
    "plt.savefig(plots_path+'bert_shap_waterfall_PRO.png', bbox_inches ='tight')\n",
    "plt.show()"
   ]
  },
  {
   "cell_type": "code",
   "execution_count": null,
   "id": "fdff423c",
   "metadata": {},
   "outputs": [],
   "source": [
    "shap.plots.waterfall(shap_values[11,:,0], max_display=10, show=False)\n",
    "plt.savefig(plots_path+'bert_shap_waterfall_CON.png', bbox_inches ='tight')\n",
    "plt.show()"
   ]
  },
  {
   "cell_type": "code",
   "execution_count": null,
   "id": "89dfff85",
   "metadata": {},
   "outputs": [],
   "source": [
    "shap.plots.text(shap_values[11,:,0])"
   ]
  },
  {
   "attachments": {},
   "cell_type": "markdown",
   "id": "64c734f2",
   "metadata": {},
   "source": [
    "### 3.4 Prompt tuning GPT2"
   ]
  },
  {
   "cell_type": "code",
   "execution_count": null,
   "id": "2f40fb3b",
   "metadata": {},
   "outputs": [],
   "source": [
    "from transformers import AutoTokenizer, AutoModelForSequenceClassification, Trainer, TrainingArguments, EarlyStoppingCallback, pipeline\n",
    "from peft import PromptTuningConfig, PromptTuningInit, PeftType, TaskType, get_peft_model, PromptEncoderConfig, PeftConfig, PeftModel\n",
    "import torch\n",
    "from datasets import Dataset, DatasetDict\n",
    "from sklearn.model_selection import train_test_split\n",
    "import evaluate\n",
    "import json"
   ]
  },
  {
   "attachments": {},
   "cell_type": "markdown",
   "id": "0da61998",
   "metadata": {},
   "source": [
    "#### Load and encode the dataset"
   ]
  },
  {
   "cell_type": "code",
   "execution_count": null,
   "id": "fb68df96",
   "metadata": {},
   "outputs": [],
   "source": [
    "train_bert, val_bert = train_test_split(train, test_size=0.2, random_state=42)"
   ]
  },
  {
   "cell_type": "code",
   "execution_count": null,
   "id": "21f8c9bb",
   "metadata": {},
   "outputs": [],
   "source": [
    "train_bert = Dataset.from_pandas(train_bert[['argument', 'stance']], split='train', preserve_index=False)\n",
    "val_bert = Dataset.from_pandas(val_bert[['argument', 'stance']], split='validation', preserve_index=False)\n",
    "test_bert = Dataset.from_pandas(test[['argument', 'stance']], split='test', preserve_index=False)\n",
    "ibm_dataset = DatasetDict(train=train_bert, val=val_bert, test=test_bert)"
   ]
  },
  {
   "cell_type": "code",
   "execution_count": null,
   "id": "daaa20c7",
   "metadata": {},
   "outputs": [],
   "source": [
    "id2label = {0: \"CON\", 1: \"PRO\"}\n",
    "label2id = {\"CON\": 0, \"PRO\": 1}\n",
    "tokenizer = AutoTokenizer.from_pretrained(\"gpt2\", truncation=True, padding_side='left')\n",
    "tokenizer.pad_token_id = tokenizer.eos_token_id"
   ]
  },
  {
   "cell_type": "code",
   "execution_count": null,
   "id": "43b5a6f0",
   "metadata": {},
   "outputs": [],
   "source": [
    "def preprocess_data(data):\n",
    "    encoding = tokenizer(data['argument'], padding=True)\n",
    "    encoding['labels'] = [label2id[l] for l in data['stance']]\n",
    "    return encoding"
   ]
  },
  {
   "cell_type": "code",
   "execution_count": null,
   "id": "3931d3d6",
   "metadata": {},
   "outputs": [],
   "source": [
    "tokenized_dataset = ibm_dataset.map(preprocess_data, batched=True, batch_size=16, remove_columns=['argument', 'stance'])\n",
    "tokenized_dataset.set_format('torch')"
   ]
  },
  {
   "attachments": {},
   "cell_type": "markdown",
   "id": "2b44a135",
   "metadata": {},
   "source": [
    "#### Prompt tuning of the model"
   ]
  },
  {
   "cell_type": "code",
   "execution_count": null,
   "id": "f67cb646",
   "metadata": {},
   "outputs": [],
   "source": [
    "peft_config = PromptEncoderConfig(#PromptTuningConfig(\n",
    "    #peft_type=PeftType.PROMPT_TUNING,\n",
    "    peft_type=PeftType.P_TUNING,\n",
    "    task_type=TaskType.SEQ_CLS,\n",
    "    #prompt_tuning_init=PromptTuningInit.TEXT,\n",
    "    num_virtual_tokens=16,\n",
    "    #prompt_tuning_init_text='Detect if the stance of this tweet is PRO or CON:',\n",
    "    #tokenizer_name_or_path='gpt2',\n",
    ")"
   ]
  },
  {
   "cell_type": "code",
   "execution_count": null,
   "id": "3e81f2f5",
   "metadata": {},
   "outputs": [],
   "source": [
    "model = AutoModelForSequenceClassification.from_pretrained(\"gpt2\",\n",
    "                                                           num_labels=2,\n",
    "                                                           id2label=id2label,\n",
    "                                                           label2id=label2id)\n",
    "model.config.pad_token_id = tokenizer.pad_token_id"
   ]
  },
  {
   "cell_type": "code",
   "execution_count": null,
   "id": "7fb60582",
   "metadata": {},
   "outputs": [],
   "source": [
    "model = get_peft_model(model, peft_config)"
   ]
  },
  {
   "cell_type": "code",
   "execution_count": null,
   "id": "47d2c37e",
   "metadata": {},
   "outputs": [],
   "source": [
    "arguments = TrainingArguments(\n",
    "    output_dir=models_path+'gpt2',\n",
    "    per_device_train_batch_size=16,\n",
    "    per_device_eval_batch_size=16,\n",
    "    num_train_epochs=5,\n",
    "    evaluation_strategy='epoch',\n",
    "    save_strategy='epoch',\n",
    "    learning_rate=2e-5,\n",
    "    weight_decay=0.01,\n",
    "    metric_for_best_model='f1',\n",
    "    load_best_model_at_end=True,\n",
    ")"
   ]
  },
  {
   "cell_type": "code",
   "execution_count": null,
   "id": "8453d611",
   "metadata": {},
   "outputs": [],
   "source": [
    "metrics = evaluate.combine([\"accuracy\", \"f1\", \"precision\", \"recall\"])\n",
    "\n",
    "def compute_metrics(eval_pred):\n",
    "    logits, labels = eval_pred\n",
    "    predictions = np.argmax(logits, axis=1)\n",
    "    return metrics.compute(predictions=predictions, references=labels, average='macro')"
   ]
  },
  {
   "cell_type": "code",
   "execution_count": null,
   "id": "68c10b24",
   "metadata": {},
   "outputs": [],
   "source": [
    "trainer = Trainer(\n",
    "    model=model,\n",
    "    args=arguments,\n",
    "    train_dataset=tokenized_dataset['train'],\n",
    "    eval_dataset=tokenized_dataset['val'],\n",
    "    tokenizer=tokenizer,\n",
    "    compute_metrics=compute_metrics\n",
    ")\n",
    "\n",
    "trainer.add_callback(EarlyStoppingCallback())"
   ]
  },
  {
   "cell_type": "code",
   "execution_count": null,
   "id": "64c89070",
   "metadata": {},
   "outputs": [],
   "source": [
    "trainer.train()"
   ]
  },
  {
   "cell_type": "code",
   "execution_count": null,
   "id": "ce689da0",
   "metadata": {},
   "outputs": [],
   "source": [
    "trainer.save_model(models_path+'gpt2/final_model')\n",
    "trainer.model.config.to_json_file(models_path+'gpt2/final_model/config.json')"
   ]
  },
  {
   "cell_type": "code",
   "execution_count": null,
   "id": "b15b2c06",
   "metadata": {},
   "outputs": [],
   "source": [
    "trainer.state.save_to_json(models_path+'gpt2/training_state.json')"
   ]
  },
  {
   "cell_type": "code",
   "execution_count": null,
   "id": "3a1349c8",
   "metadata": {},
   "outputs": [],
   "source": [
    "with open(models_path+'gpt2/train_metrics.json', 'w') as fp:\n",
    "    json.dump(trainer.evaluate(tokenized_dataset['train']), fp)"
   ]
  },
  {
   "cell_type": "code",
   "execution_count": null,
   "id": "0aca7c26",
   "metadata": {},
   "outputs": [],
   "source": [
    "with open(models_path+'gpt2/val_metrics.json', 'w') as fp:\n",
    "    json.dump(trainer.evaluate(tokenized_dataset['val']), fp)"
   ]
  },
  {
   "cell_type": "code",
   "execution_count": null,
   "id": "7f222303",
   "metadata": {},
   "outputs": [],
   "source": [
    "with open(models_path+'gpt2/test_metrics.json', 'w') as fp:\n",
    "    json.dump(trainer.evaluate(tokenized_dataset['test']), fp)"
   ]
  },
  {
   "cell_type": "code",
   "execution_count": null,
   "id": "f1f3b622",
   "metadata": {},
   "outputs": [],
   "source": [
    "#test_pred = trainer.predict(tokenized_dataset['test'])\n",
    "#y_pred = test_pred.predictions.argmax(axis=1)"
   ]
  },
  {
   "cell_type": "code",
   "execution_count": null,
   "id": "eec72c9f",
   "metadata": {},
   "outputs": [],
   "source": [
    "#y_test = tokenized_dataset['test']['labels']"
   ]
  },
  {
   "cell_type": "code",
   "execution_count": null,
   "id": "af9d8dd9",
   "metadata": {},
   "outputs": [],
   "source": [
    "#print(classification_report(y_test, test_pred.predictions.argmax(axis=1)))"
   ]
  },
  {
   "attachments": {},
   "cell_type": "markdown",
   "id": "5cb49d10",
   "metadata": {},
   "source": [
    "#### Evaluate the model"
   ]
  },
  {
   "cell_type": "code",
   "execution_count": null,
   "id": "488e28e0",
   "metadata": {},
   "outputs": [],
   "source": [
    "config = PeftConfig.from_pretrained(models_path+'gpt2/final_model')\n",
    "inference_model = AutoModelForSequenceClassification.from_pretrained(config.base_model_name_or_path)\n",
    "\n",
    "tokenizer = AutoTokenizer.from_pretrained(config.base_model_name_or_path, padding_side='left')\n",
    "tokenizer.pad_token_id = tokenizer.eos_token_id\n",
    "\n",
    "ptuned_model = PeftModel.from_pretrained(inference_model, models_path+'gpt2/final_model')\n",
    "ptuned_model.config.pad_token_id = tokenizer.pad_token_id"
   ]
  },
  {
   "cell_type": "code",
   "execution_count": null,
   "id": "ffb71f4b",
   "metadata": {},
   "outputs": [],
   "source": [
    "id2label = {0: \"CON\", 1: \"PRO\"}\n",
    "label2id = {\"CON\": 0, \"PRO\": 1}"
   ]
  },
  {
   "cell_type": "code",
   "execution_count": null,
   "id": "cfe2848b",
   "metadata": {},
   "outputs": [],
   "source": [
    "model_inputs = tokenizer(test['argument'].to_list(), return_tensors='pt', padding=True, truncation=True)"
   ]
  },
  {
   "cell_type": "code",
   "execution_count": null,
   "id": "c5e683b0",
   "metadata": {},
   "outputs": [],
   "source": [
    "with torch.no_grad():\n",
    "    pred = ptuned_model(**model_inputs)"
   ]
  },
  {
   "cell_type": "code",
   "execution_count": null,
   "id": "9bb7e553",
   "metadata": {},
   "outputs": [],
   "source": [
    "y_pred = torch.argmax(pred.logits, axis=1).numpy()\n",
    "y_test = [label2id[l] for l in test['stance']]"
   ]
  },
  {
   "cell_type": "code",
   "execution_count": null,
   "id": "8085ae24",
   "metadata": {},
   "outputs": [],
   "source": [
    "cm = confusion_matrix(y_test, y_pred, labels=[0,1])\n",
    "fig, ax = plt.subplots(figsize=(5,5))\n",
    "ConfusionMatrixDisplay(confusion_matrix=cm, display_labels=['CON', 'PRO']).plot(ax=ax)\n",
    "plt.savefig(plots_path+'gpt2_cm.png', bbox_inches =\"tight\")"
   ]
  },
  {
   "cell_type": "code",
   "execution_count": null,
   "id": "6ae4fda5",
   "metadata": {},
   "outputs": [],
   "source": [
    "print(classification_report(y_test, y_pred))"
   ]
  },
  {
   "cell_type": "code",
   "execution_count": null,
   "id": "5ebef0e7",
   "metadata": {},
   "outputs": [],
   "source": [
    "tmp = test.copy()\n",
    "tmp['pred'] = [id2label[i] for i in y_pred]"
   ]
  },
  {
   "cell_type": "code",
   "execution_count": null,
   "id": "711cd142",
   "metadata": {},
   "outputs": [],
   "source": [
    "tmp['TP'] = tmp.apply(lambda row: row['stance'] == row['pred'] and row['stance'] == 'PRO', axis=1)\n",
    "tmp['TN'] = tmp.apply(lambda row: row['stance'] == row['pred'] and row['stance'] == 'CON', axis=1)\n",
    "tmp['FP'] = tmp.apply(lambda row: row['stance'] != row['pred'] and row['stance'] == 'CON', axis=1)\n",
    "tmp['FN'] = tmp.apply(lambda row: row['stance'] != row['pred'] and row['stance'] == 'PRO', axis=1)\n",
    "tmp['T'] = tmp.apply(lambda row: row['stance'] == row['pred'], axis=1)\n",
    "tmp['F'] = tmp.apply(lambda row: row['stance'] != row['pred'], axis=1)\n",
    "tmp = tmp.groupby(by='topic').agg({'TP': 'sum',\n",
    "                                   'TN': 'sum',\n",
    "                                   'FP': 'sum',\n",
    "                                   'FN': 'sum',\n",
    "                                   'T': 'sum',\n",
    "                                   'F': 'sum'}).reset_index()\n",
    "tmp.sort_values(by='topic', inplace=True)"
   ]
  },
  {
   "cell_type": "code",
   "execution_count": null,
   "id": "2a526089",
   "metadata": {},
   "outputs": [],
   "source": [
    "plt.bar(tmp['topic'], tmp['T']/(tmp['T']+tmp['F'])*100, label='Correctly predicted')\n",
    "plt.bar(tmp['topic'], tmp['F']/(tmp['T']+tmp['F'])*100, bottom=tmp['T']/(tmp['T']+tmp['F'])*100, label='Incorrectly predicted')\n",
    "plt.title('Percentage of correctly and incorrectly predicted arguments by categories')\n",
    "plt.ylabel('Percentage of arguments')\n",
    "plt.yticks(np.arange(0,110,10))\n",
    "plt.xticks(rotation=90)\n",
    "plt.grid(axis='y', alpha=0.3)\n",
    "plt.legend()\n",
    "plt.savefig(plots_path+'gpt2_prediction_percentage.png', bbox_inches ='tight')\n",
    "plt.show()"
   ]
  },
  {
   "cell_type": "code",
   "execution_count": null,
   "id": "43186a27",
   "metadata": {},
   "outputs": [],
   "source": [
    "plt.bar(tmp['topic'], tmp['TP'], label='TP')\n",
    "plt.bar(tmp['topic'], tmp['TN'], bottom=tmp['TP'], label='TN')\n",
    "plt.bar(tmp['topic'], tmp['FP'], bottom=tmp['TP']+tmp['TN'], label='FP')\n",
    "plt.bar(tmp['topic'], tmp['FN'], bottom=tmp['TP']+tmp['TN']+tmp['FP'], label='FN')\n",
    "plt.title('Confusion matrix by categories')\n",
    "plt.ylabel('# of arguments')\n",
    "plt.yticks(np.arange(0,65,5))\n",
    "plt.xticks(rotation=90)\n",
    "plt.grid(axis='y', alpha=0.3)\n",
    "plt.legend()\n",
    "plt.savefig(plots_path+'gpt2_cm_categories.png', bbox_inches ='tight')\n",
    "plt.show()"
   ]
  },
  {
   "attachments": {},
   "cell_type": "markdown",
   "id": "87c9ba9a",
   "metadata": {},
   "source": [
    "#### Shap analysis"
   ]
  },
  {
   "cell_type": "code",
   "execution_count": null,
   "id": "fe4fc375",
   "metadata": {},
   "outputs": [],
   "source": [
    "pred = pipeline(\"text-classification\", model=ptuned_model, tokenizer=tokenizer)\n",
    "explainer = shap.Explainer(pred)"
   ]
  },
  {
   "cell_type": "code",
   "execution_count": null,
   "id": "ad3ad4ad",
   "metadata": {},
   "outputs": [],
   "source": [
    "shap_values = explainer(test['argument'][:20])"
   ]
  },
  {
   "cell_type": "code",
   "execution_count": null,
   "id": "023b3e58",
   "metadata": {},
   "outputs": [],
   "source": [
    "shap.plots.bar(shap_values[:,:,1].mean(0), max_display=10, show=False)\n",
    "plt.savefig(plots_path+'gpt2_shap_PRO.png', bbox_inches ='tight')\n",
    "plt.show()"
   ]
  },
  {
   "cell_type": "code",
   "execution_count": null,
   "id": "e1ed1546",
   "metadata": {},
   "outputs": [],
   "source": [
    "shap.plots.bar(shap_values[:,:,0].mean(0), max_display=10, show=False)\n",
    "plt.savefig(plots_path+'gpt2_shap_CON.png', bbox_inches ='tight')\n",
    "plt.show()"
   ]
  },
  {
   "cell_type": "code",
   "execution_count": null,
   "id": "3eac760f",
   "metadata": {},
   "outputs": [],
   "source": [
    "test['stance'][:10]"
   ]
  },
  {
   "cell_type": "code",
   "execution_count": null,
   "id": "18f0b0a0",
   "metadata": {},
   "outputs": [],
   "source": [
    "shap.plots.waterfall(shap_values[5,:,1], max_display=10, show=False)\n",
    "plt.savefig(plots_path+'gpt2_shap_waterfall_PRO.png', bbox_inches ='tight')\n",
    "plt.show()"
   ]
  },
  {
   "cell_type": "code",
   "execution_count": null,
   "id": "e328c957",
   "metadata": {},
   "outputs": [],
   "source": [
    "shap.plots.waterfall(shap_values[2,:,0], max_display=10, show=False)\n",
    "plt.savefig(plots_path+'gpt2_shap_waterfall_CON.png', bbox_inches ='tight')\n",
    "plt.show()"
   ]
  },
  {
   "cell_type": "code",
   "execution_count": null,
   "id": "75c2a5f8",
   "metadata": {},
   "outputs": [],
   "source": [
    "shap.plots.text(shap_values[5,:,1])"
   ]
  },
  {
   "cell_type": "code",
   "execution_count": null,
   "id": "adb13abb",
   "metadata": {},
   "outputs": [],
   "source": []
  }
 ],
 "metadata": {
  "kernelspec": {
   "display_name": "Python 3 (ipykernel)",
   "language": "python",
   "name": "python3"
  },
  "language_info": {
   "codemirror_mode": {
    "name": "ipython",
    "version": 3
   },
   "file_extension": ".py",
   "mimetype": "text/x-python",
   "name": "python",
   "nbconvert_exporter": "python",
   "pygments_lexer": "ipython3",
   "version": "3.10.11"
  }
 },
 "nbformat": 4,
 "nbformat_minor": 5
}
