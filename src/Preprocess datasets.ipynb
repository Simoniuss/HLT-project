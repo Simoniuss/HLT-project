{
 "cells": [
  {
   "cell_type": "markdown",
   "id": "8eeef64f",
   "metadata": {},
   "source": [
    "# Preprocessing datasets"
   ]
  },
  {
   "cell_type": "markdown",
   "id": "71fdf301",
   "metadata": {},
   "source": [
    "Preprocess of the datasets and split in train/test"
   ]
  },
  {
   "cell_type": "code",
   "execution_count": 1,
   "id": "003c7b7d",
   "metadata": {
    "ExecuteTime": {
     "end_time": "2023-03-27T11:03:52.737519Z",
     "start_time": "2023-03-27T11:03:50.480438Z"
    }
   },
   "outputs": [],
   "source": [
    "import pandas as pd\n",
    "from sklearn.model_selection import train_test_split"
   ]
  },
  {
   "cell_type": "markdown",
   "id": "652fb926",
   "metadata": {},
   "source": [
    "#### Import datasets"
   ]
  },
  {
   "cell_type": "code",
   "execution_count": 2,
   "id": "3437a8ef",
   "metadata": {
    "ExecuteTime": {
     "end_time": "2023-03-27T07:51:47.518150Z",
     "start_time": "2023-03-27T07:51:47.492636Z"
    }
   },
   "outputs": [],
   "source": [
    "ibm_data = '../data/ibm/claim_stance_dataset_v1.csv'\n",
    "ibm_train = '../data/ibm/ibm_train.csv'\n",
    "ibm_test = '../data/ibm/ibm_test.csv'\n",
    "\n",
    "fnc_train_bodies = '../data/fnc/train_bodies.csv'\n",
    "fnc_train_stances = '../data/fnc/train_stances.csv'\n",
    "fnc_train = '../data/fnc/fnc_train.csv'\n",
    "fnc_test_bodies = '../data/fnc/competition_test_bodies.csv'\n",
    "fnc_test_stances = '../data/fnc/competition_test_stances.csv'\n",
    "fnc_test = '../data/fnc/fnc_test.csv'"
   ]
  },
  {
   "cell_type": "markdown",
   "id": "f9691330",
   "metadata": {},
   "source": [
    "## 1. IBM dataset"
   ]
  },
  {
   "cell_type": "markdown",
   "id": "f1685765",
   "metadata": {},
   "source": [
    "### Explore dataset"
   ]
  },
  {
   "cell_type": "code",
   "execution_count": 3,
   "id": "aae18400",
   "metadata": {
    "ExecuteTime": {
     "end_time": "2023-03-27T07:51:49.261952Z",
     "start_time": "2023-03-27T07:51:49.220990Z"
    }
   },
   "outputs": [],
   "source": [
    "df = pd.read_csv(ibm_data) "
   ]
  },
  {
   "cell_type": "code",
   "execution_count": 4,
   "id": "13235bab",
   "metadata": {
    "ExecuteTime": {
     "end_time": "2023-03-27T07:51:49.662976Z",
     "start_time": "2023-03-27T07:51:49.592411Z"
    }
   },
   "outputs": [
    {
     "data": {
      "text/html": [
       "<div>\n",
       "<style scoped>\n",
       "    .dataframe tbody tr th:only-of-type {\n",
       "        vertical-align: middle;\n",
       "    }\n",
       "\n",
       "    .dataframe tbody tr th {\n",
       "        vertical-align: top;\n",
       "    }\n",
       "\n",
       "    .dataframe thead th {\n",
       "        text-align: right;\n",
       "    }\n",
       "</style>\n",
       "<table border=\"1\" class=\"dataframe\">\n",
       "  <thead>\n",
       "    <tr style=\"text-align: right;\">\n",
       "      <th></th>\n",
       "      <th>topicId</th>\n",
       "      <th>split</th>\n",
       "      <th>topicText</th>\n",
       "      <th>topicTarget</th>\n",
       "      <th>topicSentiment</th>\n",
       "      <th>claims.claimId</th>\n",
       "      <th>claims.stance</th>\n",
       "      <th>claims.claimCorrectedText</th>\n",
       "      <th>claims.claimOriginalText</th>\n",
       "      <th>claims.article.rawFile</th>\n",
       "      <th>...</th>\n",
       "      <th>claims.article.rawSpan.end</th>\n",
       "      <th>claims.article.cleanFile</th>\n",
       "      <th>claims.article.cleanSpan.start</th>\n",
       "      <th>claims.article.cleanSpan.end</th>\n",
       "      <th>claims.Compatible</th>\n",
       "      <th>claims.claimTarget.text</th>\n",
       "      <th>claims.claimTarget.span.start</th>\n",
       "      <th>claims.claimTarget.span.end</th>\n",
       "      <th>claims.claimSentiment</th>\n",
       "      <th>claims.targetsRelation</th>\n",
       "    </tr>\n",
       "  </thead>\n",
       "  <tbody>\n",
       "    <tr>\n",
       "      <th>0</th>\n",
       "      <td>1</td>\n",
       "      <td>test</td>\n",
       "      <td>This house believes that the sale of violent v...</td>\n",
       "      <td>the sale of violent video games to minors</td>\n",
       "      <td>-1</td>\n",
       "      <td>2973</td>\n",
       "      <td>PRO</td>\n",
       "      <td>Exposure to violent video games causes at leas...</td>\n",
       "      <td>exposure to violent video games causes at leas...</td>\n",
       "      <td>articles/t1/raw_1.txt</td>\n",
       "      <td>...</td>\n",
       "      <td>640</td>\n",
       "      <td>articles/t1/clean_1.txt</td>\n",
       "      <td>418</td>\n",
       "      <td>568</td>\n",
       "      <td>yes</td>\n",
       "      <td>Exposure to violent video games</td>\n",
       "      <td>0.0</td>\n",
       "      <td>31.0</td>\n",
       "      <td>-1.0</td>\n",
       "      <td>1.0</td>\n",
       "    </tr>\n",
       "    <tr>\n",
       "      <th>1</th>\n",
       "      <td>1</td>\n",
       "      <td>test</td>\n",
       "      <td>This house believes that the sale of violent v...</td>\n",
       "      <td>the sale of violent video games to minors</td>\n",
       "      <td>-1</td>\n",
       "      <td>2974</td>\n",
       "      <td>CON</td>\n",
       "      <td>video game violence is not related to serious ...</td>\n",
       "      <td>video game violence is not related to serious ...</td>\n",
       "      <td>articles/t1/raw_1.txt</td>\n",
       "      <td>...</td>\n",
       "      <td>1697</td>\n",
       "      <td>articles/t1/clean_1.txt</td>\n",
       "      <td>829</td>\n",
       "      <td>907</td>\n",
       "      <td>yes</td>\n",
       "      <td>video game violence</td>\n",
       "      <td>0.0</td>\n",
       "      <td>19.0</td>\n",
       "      <td>1.0</td>\n",
       "      <td>1.0</td>\n",
       "    </tr>\n",
       "    <tr>\n",
       "      <th>2</th>\n",
       "      <td>1</td>\n",
       "      <td>test</td>\n",
       "      <td>This house believes that the sale of violent v...</td>\n",
       "      <td>the sale of violent video games to minors</td>\n",
       "      <td>-1</td>\n",
       "      <td>2975</td>\n",
       "      <td>CON</td>\n",
       "      <td>some violent video games may actually have a p...</td>\n",
       "      <td>some violent video games may actually have a p...</td>\n",
       "      <td>articles/t1/raw_1.txt</td>\n",
       "      <td>...</td>\n",
       "      <td>2089</td>\n",
       "      <td>articles/t1/clean_1.txt</td>\n",
       "      <td>1004</td>\n",
       "      <td>1082</td>\n",
       "      <td>yes</td>\n",
       "      <td>some violent video games</td>\n",
       "      <td>0.0</td>\n",
       "      <td>24.0</td>\n",
       "      <td>1.0</td>\n",
       "      <td>1.0</td>\n",
       "    </tr>\n",
       "    <tr>\n",
       "      <th>3</th>\n",
       "      <td>1</td>\n",
       "      <td>test</td>\n",
       "      <td>This house believes that the sale of violent v...</td>\n",
       "      <td>the sale of violent video games to minors</td>\n",
       "      <td>-1</td>\n",
       "      <td>2977</td>\n",
       "      <td>PRO</td>\n",
       "      <td>exposure to violent video games causes both sh...</td>\n",
       "      <td>exposure to violent video games causes both sh...</td>\n",
       "      <td>articles/t1/raw_1.txt</td>\n",
       "      <td>...</td>\n",
       "      <td>3695</td>\n",
       "      <td>articles/t1/clean_1.txt</td>\n",
       "      <td>1442</td>\n",
       "      <td>1577</td>\n",
       "      <td>yes</td>\n",
       "      <td>exposure to violent video games</td>\n",
       "      <td>0.0</td>\n",
       "      <td>31.0</td>\n",
       "      <td>-1.0</td>\n",
       "      <td>1.0</td>\n",
       "    </tr>\n",
       "    <tr>\n",
       "      <th>4</th>\n",
       "      <td>1</td>\n",
       "      <td>test</td>\n",
       "      <td>This house believes that the sale of violent v...</td>\n",
       "      <td>the sale of violent video games to minors</td>\n",
       "      <td>-1</td>\n",
       "      <td>2978</td>\n",
       "      <td>PRO</td>\n",
       "      <td>Violent video games increase the violent tende...</td>\n",
       "      <td>they increase the violent tendencies among youth</td>\n",
       "      <td>articles/t1/raw_1.txt</td>\n",
       "      <td>...</td>\n",
       "      <td>8167</td>\n",
       "      <td>articles/t1/clean_1.txt</td>\n",
       "      <td>3900</td>\n",
       "      <td>3948</td>\n",
       "      <td>yes</td>\n",
       "      <td>Violent video games</td>\n",
       "      <td>0.0</td>\n",
       "      <td>19.0</td>\n",
       "      <td>-1.0</td>\n",
       "      <td>1.0</td>\n",
       "    </tr>\n",
       "  </tbody>\n",
       "</table>\n",
       "<p>5 rows × 21 columns</p>\n",
       "</div>"
      ],
      "text/plain": [
       "   topicId split                                          topicText  \\\n",
       "0        1  test  This house believes that the sale of violent v...   \n",
       "1        1  test  This house believes that the sale of violent v...   \n",
       "2        1  test  This house believes that the sale of violent v...   \n",
       "3        1  test  This house believes that the sale of violent v...   \n",
       "4        1  test  This house believes that the sale of violent v...   \n",
       "\n",
       "                                 topicTarget  topicSentiment  claims.claimId  \\\n",
       "0  the sale of violent video games to minors              -1            2973   \n",
       "1  the sale of violent video games to minors              -1            2974   \n",
       "2  the sale of violent video games to minors              -1            2975   \n",
       "3  the sale of violent video games to minors              -1            2977   \n",
       "4  the sale of violent video games to minors              -1            2978   \n",
       "\n",
       "  claims.stance                          claims.claimCorrectedText  \\\n",
       "0           PRO  Exposure to violent video games causes at leas...   \n",
       "1           CON  video game violence is not related to serious ...   \n",
       "2           CON  some violent video games may actually have a p...   \n",
       "3           PRO  exposure to violent video games causes both sh...   \n",
       "4           PRO  Violent video games increase the violent tende...   \n",
       "\n",
       "                            claims.claimOriginalText claims.article.rawFile  \\\n",
       "0  exposure to violent video games causes at leas...  articles/t1/raw_1.txt   \n",
       "1  video game violence is not related to serious ...  articles/t1/raw_1.txt   \n",
       "2  some violent video games may actually have a p...  articles/t1/raw_1.txt   \n",
       "3  exposure to violent video games causes both sh...  articles/t1/raw_1.txt   \n",
       "4   they increase the violent tendencies among youth  articles/t1/raw_1.txt   \n",
       "\n",
       "   ...  claims.article.rawSpan.end  claims.article.cleanFile  \\\n",
       "0  ...                         640   articles/t1/clean_1.txt   \n",
       "1  ...                        1697   articles/t1/clean_1.txt   \n",
       "2  ...                        2089   articles/t1/clean_1.txt   \n",
       "3  ...                        3695   articles/t1/clean_1.txt   \n",
       "4  ...                        8167   articles/t1/clean_1.txt   \n",
       "\n",
       "  claims.article.cleanSpan.start  claims.article.cleanSpan.end  \\\n",
       "0                            418                           568   \n",
       "1                            829                           907   \n",
       "2                           1004                          1082   \n",
       "3                           1442                          1577   \n",
       "4                           3900                          3948   \n",
       "\n",
       "   claims.Compatible          claims.claimTarget.text  \\\n",
       "0                yes  Exposure to violent video games   \n",
       "1                yes              video game violence   \n",
       "2                yes         some violent video games   \n",
       "3                yes  exposure to violent video games   \n",
       "4                yes              Violent video games   \n",
       "\n",
       "  claims.claimTarget.span.start  claims.claimTarget.span.end  \\\n",
       "0                           0.0                         31.0   \n",
       "1                           0.0                         19.0   \n",
       "2                           0.0                         24.0   \n",
       "3                           0.0                         31.0   \n",
       "4                           0.0                         19.0   \n",
       "\n",
       "   claims.claimSentiment  claims.targetsRelation  \n",
       "0                   -1.0                     1.0  \n",
       "1                    1.0                     1.0  \n",
       "2                    1.0                     1.0  \n",
       "3                   -1.0                     1.0  \n",
       "4                   -1.0                     1.0  \n",
       "\n",
       "[5 rows x 21 columns]"
      ]
     },
     "execution_count": 4,
     "metadata": {},
     "output_type": "execute_result"
    }
   ],
   "source": [
    "df.head()"
   ]
  },
  {
   "cell_type": "code",
   "execution_count": 5,
   "id": "4a095258",
   "metadata": {
    "ExecuteTime": {
     "end_time": "2023-03-27T07:51:50.922265Z",
     "start_time": "2023-03-27T07:51:50.905579Z"
    }
   },
   "outputs": [
    {
     "data": {
      "text/plain": [
       "Index(['topicId', 'split', 'topicText', 'topicTarget', 'topicSentiment',\n",
       "       'claims.claimId', 'claims.stance', 'claims.claimCorrectedText',\n",
       "       'claims.claimOriginalText', 'claims.article.rawFile',\n",
       "       'claims.article.rawSpan.start', 'claims.article.rawSpan.end',\n",
       "       'claims.article.cleanFile', 'claims.article.cleanSpan.start',\n",
       "       'claims.article.cleanSpan.end', 'claims.Compatible',\n",
       "       'claims.claimTarget.text', 'claims.claimTarget.span.start',\n",
       "       'claims.claimTarget.span.end', 'claims.claimSentiment',\n",
       "       'claims.targetsRelation'],\n",
       "      dtype='object')"
      ]
     },
     "execution_count": 5,
     "metadata": {},
     "output_type": "execute_result"
    }
   ],
   "source": [
    "df.columns"
   ]
  },
  {
   "cell_type": "code",
   "execution_count": 6,
   "id": "0d4147de",
   "metadata": {
    "ExecuteTime": {
     "end_time": "2023-03-27T07:51:51.984578Z",
     "start_time": "2023-03-27T07:51:51.972097Z"
    }
   },
   "outputs": [
    {
     "name": "stdout",
     "output_type": "stream",
     "text": [
      "55\n",
      "55\n",
      "55\n"
     ]
    }
   ],
   "source": [
    "print(df['topicId'].nunique())\n",
    "print(df['topicText'].nunique())\n",
    "print(df['topicTarget'].nunique())"
   ]
  },
  {
   "cell_type": "code",
   "execution_count": 7,
   "id": "e932ff3a",
   "metadata": {
    "ExecuteTime": {
     "end_time": "2023-03-27T07:51:52.760896Z",
     "start_time": "2023-03-27T07:51:52.746440Z"
    }
   },
   "outputs": [
    {
     "name": "stdout",
     "output_type": "stream",
     "text": [
      "2394\n",
      "2379\n",
      "2385\n"
     ]
    }
   ],
   "source": [
    "print(df['claims.claimId'].nunique())\n",
    "print(df['claims.claimOriginalText'].nunique())\n",
    "print(df['claims.claimCorrectedText'].nunique())"
   ]
  },
  {
   "cell_type": "code",
   "execution_count": 8,
   "id": "d60e17c8",
   "metadata": {
    "ExecuteTime": {
     "end_time": "2023-03-27T07:51:54.353116Z",
     "start_time": "2023-03-27T07:51:54.328272Z"
    },
    "scrolled": false
   },
   "outputs": [
    {
     "data": {
      "text/html": [
       "<div>\n",
       "<style scoped>\n",
       "    .dataframe tbody tr th:only-of-type {\n",
       "        vertical-align: middle;\n",
       "    }\n",
       "\n",
       "    .dataframe tbody tr th {\n",
       "        vertical-align: top;\n",
       "    }\n",
       "\n",
       "    .dataframe thead th {\n",
       "        text-align: right;\n",
       "    }\n",
       "</style>\n",
       "<table border=\"1\" class=\"dataframe\">\n",
       "  <thead>\n",
       "    <tr style=\"text-align: right;\">\n",
       "      <th></th>\n",
       "      <th>claims.claimCorrectedText</th>\n",
       "      <th>claims.claimOriginalText</th>\n",
       "    </tr>\n",
       "  </thead>\n",
       "  <tbody>\n",
       "    <tr>\n",
       "      <th>0</th>\n",
       "      <td>Exposure to violent video games causes at leas...</td>\n",
       "      <td>exposure to violent video games causes at leas...</td>\n",
       "    </tr>\n",
       "    <tr>\n",
       "      <th>4</th>\n",
       "      <td>Violent video games increase the violent tende...</td>\n",
       "      <td>they increase the violent tendencies among youth</td>\n",
       "    </tr>\n",
       "    <tr>\n",
       "      <th>5</th>\n",
       "      <td>No conclusive link was found between video gam...</td>\n",
       "      <td>have shown no conclusive link between video ga...</td>\n",
       "    </tr>\n",
       "    <tr>\n",
       "      <th>10</th>\n",
       "      <td>No long-term relationship was found between pl...</td>\n",
       "      <td>no long-term relationship between playing viol...</td>\n",
       "    </tr>\n",
       "    <tr>\n",
       "      <th>12</th>\n",
       "      <td>No evidence has found that violent games are p...</td>\n",
       "      <td>no evidence violent games are psychologically ...</td>\n",
       "    </tr>\n",
       "    <tr>\n",
       "      <th>...</th>\n",
       "      <td>...</td>\n",
       "      <td>...</td>\n",
       "    </tr>\n",
       "    <tr>\n",
       "      <th>2372</th>\n",
       "      <td>Democracy is contrary to human nature</td>\n",
       "      <td>democracy was contrary to human nature</td>\n",
       "    </tr>\n",
       "    <tr>\n",
       "      <th>2378</th>\n",
       "      <td>The democratic system provides a way to replac...</td>\n",
       "      <td>The democratic system also provides a way to r...</td>\n",
       "    </tr>\n",
       "    <tr>\n",
       "      <th>2381</th>\n",
       "      <td>Democratic nations have less genocide and poli...</td>\n",
       "      <td>they have less genocide and politicide</td>\n",
       "    </tr>\n",
       "    <tr>\n",
       "      <th>2388</th>\n",
       "      <td>Democracy is reckless and arbitrary</td>\n",
       "      <td>democracy was reckless and arbitrary</td>\n",
       "    </tr>\n",
       "    <tr>\n",
       "      <th>2391</th>\n",
       "      <td>Democracy in general is criticized for ignorin...</td>\n",
       "      <td>democracy in general for ignoring the rights o...</td>\n",
       "    </tr>\n",
       "  </tbody>\n",
       "</table>\n",
       "<p>677 rows × 2 columns</p>\n",
       "</div>"
      ],
      "text/plain": [
       "                              claims.claimCorrectedText  \\\n",
       "0     Exposure to violent video games causes at leas...   \n",
       "4     Violent video games increase the violent tende...   \n",
       "5     No conclusive link was found between video gam...   \n",
       "10    No long-term relationship was found between pl...   \n",
       "12    No evidence has found that violent games are p...   \n",
       "...                                                 ...   \n",
       "2372              Democracy is contrary to human nature   \n",
       "2378  The democratic system provides a way to replac...   \n",
       "2381  Democratic nations have less genocide and poli...   \n",
       "2388                Democracy is reckless and arbitrary   \n",
       "2391  Democracy in general is criticized for ignorin...   \n",
       "\n",
       "                               claims.claimOriginalText  \n",
       "0     exposure to violent video games causes at leas...  \n",
       "4      they increase the violent tendencies among youth  \n",
       "5     have shown no conclusive link between video ga...  \n",
       "10    no long-term relationship between playing viol...  \n",
       "12    no evidence violent games are psychologically ...  \n",
       "...                                                 ...  \n",
       "2372             democracy was contrary to human nature  \n",
       "2378  The democratic system also provides a way to r...  \n",
       "2381             they have less genocide and politicide  \n",
       "2388               democracy was reckless and arbitrary  \n",
       "2391  democracy in general for ignoring the rights o...  \n",
       "\n",
       "[677 rows x 2 columns]"
      ]
     },
     "execution_count": 8,
     "metadata": {},
     "output_type": "execute_result"
    }
   ],
   "source": [
    "# Exploring differences between CorrectedText and OriginalText\n",
    "df[df['claims.claimCorrectedText'] != df['claims.claimOriginalText']][['claims.claimCorrectedText', 'claims.claimOriginalText']]"
   ]
  },
  {
   "cell_type": "markdown",
   "id": "7e6c62af",
   "metadata": {},
   "source": [
    "### Split and save IBM dataset"
   ]
  },
  {
   "cell_type": "code",
   "execution_count": 9,
   "id": "bf3ca164",
   "metadata": {
    "ExecuteTime": {
     "end_time": "2023-03-27T07:51:58.692696Z",
     "start_time": "2023-03-27T07:51:58.684790Z"
    }
   },
   "outputs": [],
   "source": [
    "df1 = df[['topicTarget', 'claims.stance', 'claims.claimCorrectedText', 'claims.claimSentiment']]"
   ]
  },
  {
   "cell_type": "code",
   "execution_count": 10,
   "id": "91b11306",
   "metadata": {
    "ExecuteTime": {
     "end_time": "2023-03-27T07:51:59.191970Z",
     "start_time": "2023-03-27T07:51:59.173579Z"
    },
    "scrolled": true
   },
   "outputs": [
    {
     "data": {
      "text/html": [
       "<div>\n",
       "<style scoped>\n",
       "    .dataframe tbody tr th:only-of-type {\n",
       "        vertical-align: middle;\n",
       "    }\n",
       "\n",
       "    .dataframe tbody tr th {\n",
       "        vertical-align: top;\n",
       "    }\n",
       "\n",
       "    .dataframe thead th {\n",
       "        text-align: right;\n",
       "    }\n",
       "</style>\n",
       "<table border=\"1\" class=\"dataframe\">\n",
       "  <thead>\n",
       "    <tr style=\"text-align: right;\">\n",
       "      <th></th>\n",
       "      <th>topicTarget</th>\n",
       "      <th>claims.stance</th>\n",
       "      <th>claims.claimCorrectedText</th>\n",
       "      <th>claims.claimSentiment</th>\n",
       "    </tr>\n",
       "  </thead>\n",
       "  <tbody>\n",
       "    <tr>\n",
       "      <th>0</th>\n",
       "      <td>the sale of violent video games to minors</td>\n",
       "      <td>PRO</td>\n",
       "      <td>Exposure to violent video games causes at leas...</td>\n",
       "      <td>-1.0</td>\n",
       "    </tr>\n",
       "    <tr>\n",
       "      <th>1</th>\n",
       "      <td>the sale of violent video games to minors</td>\n",
       "      <td>CON</td>\n",
       "      <td>video game violence is not related to serious ...</td>\n",
       "      <td>1.0</td>\n",
       "    </tr>\n",
       "    <tr>\n",
       "      <th>2</th>\n",
       "      <td>the sale of violent video games to minors</td>\n",
       "      <td>CON</td>\n",
       "      <td>some violent video games may actually have a p...</td>\n",
       "      <td>1.0</td>\n",
       "    </tr>\n",
       "    <tr>\n",
       "      <th>3</th>\n",
       "      <td>the sale of violent video games to minors</td>\n",
       "      <td>PRO</td>\n",
       "      <td>exposure to violent video games causes both sh...</td>\n",
       "      <td>-1.0</td>\n",
       "    </tr>\n",
       "    <tr>\n",
       "      <th>4</th>\n",
       "      <td>the sale of violent video games to minors</td>\n",
       "      <td>PRO</td>\n",
       "      <td>Violent video games increase the violent tende...</td>\n",
       "      <td>-1.0</td>\n",
       "    </tr>\n",
       "  </tbody>\n",
       "</table>\n",
       "</div>"
      ],
      "text/plain": [
       "                                 topicTarget claims.stance  \\\n",
       "0  the sale of violent video games to minors           PRO   \n",
       "1  the sale of violent video games to minors           CON   \n",
       "2  the sale of violent video games to minors           CON   \n",
       "3  the sale of violent video games to minors           PRO   \n",
       "4  the sale of violent video games to minors           PRO   \n",
       "\n",
       "                           claims.claimCorrectedText  claims.claimSentiment  \n",
       "0  Exposure to violent video games causes at leas...                   -1.0  \n",
       "1  video game violence is not related to serious ...                    1.0  \n",
       "2  some violent video games may actually have a p...                    1.0  \n",
       "3  exposure to violent video games causes both sh...                   -1.0  \n",
       "4  Violent video games increase the violent tende...                   -1.0  "
      ]
     },
     "execution_count": 10,
     "metadata": {},
     "output_type": "execute_result"
    }
   ],
   "source": [
    "df1.head()"
   ]
  },
  {
   "cell_type": "code",
   "execution_count": 32,
   "id": "58b6c54c",
   "metadata": {
    "ExecuteTime": {
     "end_time": "2023-03-27T07:58:56.201234Z",
     "start_time": "2023-03-27T07:58:56.190057Z"
    }
   },
   "outputs": [],
   "source": [
    "# Remove topic with few samples\n",
    "tmp = df1.groupby(by=['topicTarget']).agg({'claims.claimCorrectedText': 'count'}).reset_index()"
   ]
  },
  {
   "cell_type": "code",
   "execution_count": 37,
   "id": "2e127759",
   "metadata": {
    "ExecuteTime": {
     "end_time": "2023-03-27T07:59:58.516053Z",
     "start_time": "2023-03-27T07:59:58.506699Z"
    }
   },
   "outputs": [],
   "source": [
    "topic_tbr = tmp[tmp['claims.claimCorrectedText']<40]['topicTarget']"
   ]
  },
  {
   "cell_type": "code",
   "execution_count": 40,
   "id": "c0e832db",
   "metadata": {
    "ExecuteTime": {
     "end_time": "2023-03-27T08:01:41.359904Z",
     "start_time": "2023-03-27T08:01:41.353316Z"
    }
   },
   "outputs": [],
   "source": [
    "df1 = df1[~df1['topicTarget'].isin(topic_tbr)]"
   ]
  },
  {
   "cell_type": "code",
   "execution_count": 41,
   "id": "9708660f",
   "metadata": {
    "ExecuteTime": {
     "end_time": "2023-03-27T08:02:09.410476Z",
     "start_time": "2023-03-27T08:02:09.378407Z"
    }
   },
   "outputs": [],
   "source": [
    "train, test = train_test_split(df1, test_size=0.33, stratify=df1[['topicTarget', 'claims.stance']])"
   ]
  },
  {
   "cell_type": "code",
   "execution_count": 42,
   "id": "8f9ad5dc",
   "metadata": {
    "ExecuteTime": {
     "end_time": "2023-03-27T08:02:10.473547Z",
     "start_time": "2023-03-27T08:02:10.456143Z"
    }
   },
   "outputs": [
    {
     "name": "stdout",
     "output_type": "stream",
     "text": [
      "<class 'pandas.core.frame.DataFrame'>\n",
      "Int64Index: 1197 entries, 966 to 70\n",
      "Data columns (total 4 columns):\n",
      " #   Column                     Non-Null Count  Dtype  \n",
      "---  ------                     --------------  -----  \n",
      " 0   topicTarget                1197 non-null   object \n",
      " 1   claims.stance              1197 non-null   object \n",
      " 2   claims.claimCorrectedText  1197 non-null   object \n",
      " 3   claims.claimSentiment      1142 non-null   float64\n",
      "dtypes: float64(1), object(3)\n",
      "memory usage: 46.8+ KB\n"
     ]
    }
   ],
   "source": [
    "train.info()"
   ]
  },
  {
   "cell_type": "code",
   "execution_count": 43,
   "id": "df39b9ad",
   "metadata": {
    "ExecuteTime": {
     "end_time": "2023-03-27T08:02:12.070443Z",
     "start_time": "2023-03-27T08:02:12.052951Z"
    },
    "scrolled": false
   },
   "outputs": [
    {
     "name": "stdout",
     "output_type": "stream",
     "text": [
      "<class 'pandas.core.frame.DataFrame'>\n",
      "Int64Index: 591 entries, 1176 to 271\n",
      "Data columns (total 4 columns):\n",
      " #   Column                     Non-Null Count  Dtype  \n",
      "---  ------                     --------------  -----  \n",
      " 0   topicTarget                591 non-null    object \n",
      " 1   claims.stance              591 non-null    object \n",
      " 2   claims.claimCorrectedText  591 non-null    object \n",
      " 3   claims.claimSentiment      564 non-null    float64\n",
      "dtypes: float64(1), object(3)\n",
      "memory usage: 23.1+ KB\n"
     ]
    }
   ],
   "source": [
    "test.info()"
   ]
  },
  {
   "cell_type": "code",
   "execution_count": 44,
   "id": "ee9dddfd",
   "metadata": {
    "ExecuteTime": {
     "end_time": "2023-03-27T08:02:16.589567Z",
     "start_time": "2023-03-27T08:02:16.580415Z"
    }
   },
   "outputs": [],
   "source": [
    "train.rename(columns={'topicTarget': 'topic',\n",
    "                      'claims.stance': 'stance',\n",
    "                      'claims.claimCorrectedText': 'argument',\n",
    "                      'claims.claimSentiment': 'argument_sentiment'}, inplace=True)\n",
    "test.rename(columns={'topicTarget': 'topic',\n",
    "                      'claims.stance': 'stance',\n",
    "                      'claims.claimCorrectedText': 'argument',\n",
    "                      'claims.claimSentiment': 'argument_sentiment'}, inplace=True)"
   ]
  },
  {
   "cell_type": "code",
   "execution_count": 45,
   "id": "2598f521",
   "metadata": {
    "ExecuteTime": {
     "end_time": "2023-03-27T08:02:22.906291Z",
     "start_time": "2023-03-27T08:02:22.873985Z"
    }
   },
   "outputs": [],
   "source": [
    "train.to_csv(ibm_train, index=False)\n",
    "test.to_csv(ibm_test, index=False)"
   ]
  },
  {
   "cell_type": "markdown",
   "id": "dbac5962",
   "metadata": {},
   "source": [
    "## 2. FNC dataset"
   ]
  },
  {
   "cell_type": "markdown",
   "id": "048ccf99",
   "metadata": {},
   "source": [
    "### Explore dataset"
   ]
  },
  {
   "cell_type": "code",
   "execution_count": 16,
   "id": "f0f0fa00",
   "metadata": {
    "ExecuteTime": {
     "end_time": "2023-03-26T18:52:32.103683Z",
     "start_time": "2023-03-26T18:52:31.961156Z"
    }
   },
   "outputs": [],
   "source": [
    "train_b = pd.read_csv(fnc_train_bodies)\n",
    "train_s = pd.read_csv(fnc_train_stances)"
   ]
  },
  {
   "cell_type": "code",
   "execution_count": 17,
   "id": "03c8c0c9",
   "metadata": {
    "ExecuteTime": {
     "end_time": "2023-03-26T18:52:32.468158Z",
     "start_time": "2023-03-26T18:52:32.451714Z"
    }
   },
   "outputs": [
    {
     "data": {
      "text/html": [
       "<div>\n",
       "<style scoped>\n",
       "    .dataframe tbody tr th:only-of-type {\n",
       "        vertical-align: middle;\n",
       "    }\n",
       "\n",
       "    .dataframe tbody tr th {\n",
       "        vertical-align: top;\n",
       "    }\n",
       "\n",
       "    .dataframe thead th {\n",
       "        text-align: right;\n",
       "    }\n",
       "</style>\n",
       "<table border=\"1\" class=\"dataframe\">\n",
       "  <thead>\n",
       "    <tr style=\"text-align: right;\">\n",
       "      <th></th>\n",
       "      <th>Body ID</th>\n",
       "      <th>articleBody</th>\n",
       "    </tr>\n",
       "  </thead>\n",
       "  <tbody>\n",
       "    <tr>\n",
       "      <th>0</th>\n",
       "      <td>0</td>\n",
       "      <td>A small meteorite crashed into a wooded area i...</td>\n",
       "    </tr>\n",
       "    <tr>\n",
       "      <th>1</th>\n",
       "      <td>4</td>\n",
       "      <td>Last week we hinted at what was to come as Ebo...</td>\n",
       "    </tr>\n",
       "    <tr>\n",
       "      <th>2</th>\n",
       "      <td>5</td>\n",
       "      <td>(NEWSER) – Wonder how long a Quarter Pounder w...</td>\n",
       "    </tr>\n",
       "    <tr>\n",
       "      <th>3</th>\n",
       "      <td>6</td>\n",
       "      <td>Posting photos of a gun-toting child online, I...</td>\n",
       "    </tr>\n",
       "    <tr>\n",
       "      <th>4</th>\n",
       "      <td>7</td>\n",
       "      <td>At least 25 suspected Boko Haram insurgents we...</td>\n",
       "    </tr>\n",
       "  </tbody>\n",
       "</table>\n",
       "</div>"
      ],
      "text/plain": [
       "   Body ID                                        articleBody\n",
       "0        0  A small meteorite crashed into a wooded area i...\n",
       "1        4  Last week we hinted at what was to come as Ebo...\n",
       "2        5  (NEWSER) – Wonder how long a Quarter Pounder w...\n",
       "3        6  Posting photos of a gun-toting child online, I...\n",
       "4        7  At least 25 suspected Boko Haram insurgents we..."
      ]
     },
     "execution_count": 17,
     "metadata": {},
     "output_type": "execute_result"
    }
   ],
   "source": [
    "train_b.head()"
   ]
  },
  {
   "cell_type": "code",
   "execution_count": 18,
   "id": "e83855cb",
   "metadata": {
    "ExecuteTime": {
     "end_time": "2023-03-26T18:52:32.912768Z",
     "start_time": "2023-03-26T18:52:32.900252Z"
    }
   },
   "outputs": [
    {
     "data": {
      "text/html": [
       "<div>\n",
       "<style scoped>\n",
       "    .dataframe tbody tr th:only-of-type {\n",
       "        vertical-align: middle;\n",
       "    }\n",
       "\n",
       "    .dataframe tbody tr th {\n",
       "        vertical-align: top;\n",
       "    }\n",
       "\n",
       "    .dataframe thead th {\n",
       "        text-align: right;\n",
       "    }\n",
       "</style>\n",
       "<table border=\"1\" class=\"dataframe\">\n",
       "  <thead>\n",
       "    <tr style=\"text-align: right;\">\n",
       "      <th></th>\n",
       "      <th>Headline</th>\n",
       "      <th>Body ID</th>\n",
       "      <th>Stance</th>\n",
       "    </tr>\n",
       "  </thead>\n",
       "  <tbody>\n",
       "    <tr>\n",
       "      <th>0</th>\n",
       "      <td>Police find mass graves with at least '15 bodi...</td>\n",
       "      <td>712</td>\n",
       "      <td>unrelated</td>\n",
       "    </tr>\n",
       "    <tr>\n",
       "      <th>1</th>\n",
       "      <td>Hundreds of Palestinians flee floods in Gaza a...</td>\n",
       "      <td>158</td>\n",
       "      <td>agree</td>\n",
       "    </tr>\n",
       "    <tr>\n",
       "      <th>2</th>\n",
       "      <td>Christian Bale passes on role of Steve Jobs, a...</td>\n",
       "      <td>137</td>\n",
       "      <td>unrelated</td>\n",
       "    </tr>\n",
       "    <tr>\n",
       "      <th>3</th>\n",
       "      <td>HBO and Apple in Talks for $15/Month Apple TV ...</td>\n",
       "      <td>1034</td>\n",
       "      <td>unrelated</td>\n",
       "    </tr>\n",
       "    <tr>\n",
       "      <th>4</th>\n",
       "      <td>Spider burrowed through tourist's stomach and ...</td>\n",
       "      <td>1923</td>\n",
       "      <td>disagree</td>\n",
       "    </tr>\n",
       "  </tbody>\n",
       "</table>\n",
       "</div>"
      ],
      "text/plain": [
       "                                            Headline  Body ID     Stance\n",
       "0  Police find mass graves with at least '15 bodi...      712  unrelated\n",
       "1  Hundreds of Palestinians flee floods in Gaza a...      158      agree\n",
       "2  Christian Bale passes on role of Steve Jobs, a...      137  unrelated\n",
       "3  HBO and Apple in Talks for $15/Month Apple TV ...     1034  unrelated\n",
       "4  Spider burrowed through tourist's stomach and ...     1923   disagree"
      ]
     },
     "execution_count": 18,
     "metadata": {},
     "output_type": "execute_result"
    }
   ],
   "source": [
    "train_s.head()"
   ]
  },
  {
   "cell_type": "code",
   "execution_count": 19,
   "id": "8bfe03ea",
   "metadata": {
    "ExecuteTime": {
     "end_time": "2023-03-26T18:52:33.504112Z",
     "start_time": "2023-03-26T18:52:33.492390Z"
    }
   },
   "outputs": [
    {
     "data": {
      "text/plain": [
       "1683"
      ]
     },
     "execution_count": 19,
     "metadata": {},
     "output_type": "execute_result"
    }
   ],
   "source": [
    "train_s['Body ID'].nunique()"
   ]
  },
  {
   "cell_type": "code",
   "execution_count": 20,
   "id": "c84dc23a",
   "metadata": {
    "ExecuteTime": {
     "end_time": "2023-03-26T18:52:33.992622Z",
     "start_time": "2023-03-26T18:52:33.968710Z"
    }
   },
   "outputs": [],
   "source": [
    "train = pd.merge(train_b, train_s, on=['Body ID'])"
   ]
  },
  {
   "cell_type": "code",
   "execution_count": 21,
   "id": "007f8425",
   "metadata": {
    "ExecuteTime": {
     "end_time": "2023-03-26T18:52:34.488766Z",
     "start_time": "2023-03-26T18:52:34.470314Z"
    },
    "scrolled": true
   },
   "outputs": [
    {
     "data": {
      "text/html": [
       "<div>\n",
       "<style scoped>\n",
       "    .dataframe tbody tr th:only-of-type {\n",
       "        vertical-align: middle;\n",
       "    }\n",
       "\n",
       "    .dataframe tbody tr th {\n",
       "        vertical-align: top;\n",
       "    }\n",
       "\n",
       "    .dataframe thead th {\n",
       "        text-align: right;\n",
       "    }\n",
       "</style>\n",
       "<table border=\"1\" class=\"dataframe\">\n",
       "  <thead>\n",
       "    <tr style=\"text-align: right;\">\n",
       "      <th></th>\n",
       "      <th>Body ID</th>\n",
       "      <th>articleBody</th>\n",
       "      <th>Headline</th>\n",
       "      <th>Stance</th>\n",
       "    </tr>\n",
       "  </thead>\n",
       "  <tbody>\n",
       "    <tr>\n",
       "      <th>0</th>\n",
       "      <td>0</td>\n",
       "      <td>A small meteorite crashed into a wooded area i...</td>\n",
       "      <td>Soldier shot, Parliament locked down after gun...</td>\n",
       "      <td>unrelated</td>\n",
       "    </tr>\n",
       "    <tr>\n",
       "      <th>1</th>\n",
       "      <td>0</td>\n",
       "      <td>A small meteorite crashed into a wooded area i...</td>\n",
       "      <td>Tourist dubbed ‘Spider Man’ after spider burro...</td>\n",
       "      <td>unrelated</td>\n",
       "    </tr>\n",
       "    <tr>\n",
       "      <th>2</th>\n",
       "      <td>0</td>\n",
       "      <td>A small meteorite crashed into a wooded area i...</td>\n",
       "      <td>Luke Somers 'killed in failed rescue attempt i...</td>\n",
       "      <td>unrelated</td>\n",
       "    </tr>\n",
       "    <tr>\n",
       "      <th>3</th>\n",
       "      <td>0</td>\n",
       "      <td>A small meteorite crashed into a wooded area i...</td>\n",
       "      <td>BREAKING: Soldier shot at War Memorial in Ottawa</td>\n",
       "      <td>unrelated</td>\n",
       "    </tr>\n",
       "    <tr>\n",
       "      <th>4</th>\n",
       "      <td>0</td>\n",
       "      <td>A small meteorite crashed into a wooded area i...</td>\n",
       "      <td>Giant 8ft 9in catfish weighing 19 stone caught...</td>\n",
       "      <td>unrelated</td>\n",
       "    </tr>\n",
       "  </tbody>\n",
       "</table>\n",
       "</div>"
      ],
      "text/plain": [
       "   Body ID                                        articleBody  \\\n",
       "0        0  A small meteorite crashed into a wooded area i...   \n",
       "1        0  A small meteorite crashed into a wooded area i...   \n",
       "2        0  A small meteorite crashed into a wooded area i...   \n",
       "3        0  A small meteorite crashed into a wooded area i...   \n",
       "4        0  A small meteorite crashed into a wooded area i...   \n",
       "\n",
       "                                            Headline     Stance  \n",
       "0  Soldier shot, Parliament locked down after gun...  unrelated  \n",
       "1  Tourist dubbed ‘Spider Man’ after spider burro...  unrelated  \n",
       "2  Luke Somers 'killed in failed rescue attempt i...  unrelated  \n",
       "3   BREAKING: Soldier shot at War Memorial in Ottawa  unrelated  \n",
       "4  Giant 8ft 9in catfish weighing 19 stone caught...  unrelated  "
      ]
     },
     "execution_count": 21,
     "metadata": {},
     "output_type": "execute_result"
    }
   ],
   "source": [
    "train.head()"
   ]
  },
  {
   "cell_type": "code",
   "execution_count": 22,
   "id": "44da6cf3",
   "metadata": {
    "ExecuteTime": {
     "end_time": "2023-03-26T18:52:34.971768Z",
     "start_time": "2023-03-26T18:52:34.921278Z"
    }
   },
   "outputs": [
    {
     "name": "stdout",
     "output_type": "stream",
     "text": [
      "<class 'pandas.core.frame.DataFrame'>\n",
      "Int64Index: 49972 entries, 0 to 49971\n",
      "Data columns (total 4 columns):\n",
      " #   Column       Non-Null Count  Dtype \n",
      "---  ------       --------------  ----- \n",
      " 0   Body ID      49972 non-null  int64 \n",
      " 1   articleBody  49972 non-null  object\n",
      " 2   Headline     49972 non-null  object\n",
      " 3   Stance       49972 non-null  object\n",
      "dtypes: int64(1), object(3)\n",
      "memory usage: 1.9+ MB\n"
     ]
    }
   ],
   "source": [
    "train.info()"
   ]
  },
  {
   "cell_type": "code",
   "execution_count": 23,
   "id": "d9c34638",
   "metadata": {
    "ExecuteTime": {
     "end_time": "2023-03-26T18:52:35.476139Z",
     "start_time": "2023-03-26T18:52:35.456437Z"
    }
   },
   "outputs": [
    {
     "data": {
      "text/plain": [
       "1648"
      ]
     },
     "execution_count": 23,
     "metadata": {},
     "output_type": "execute_result"
    }
   ],
   "source": [
    "train['Headline'].nunique()"
   ]
  },
  {
   "cell_type": "code",
   "execution_count": 24,
   "id": "4988c9df",
   "metadata": {
    "ExecuteTime": {
     "end_time": "2023-03-26T18:52:35.979095Z",
     "start_time": "2023-03-26T18:52:35.967492Z"
    }
   },
   "outputs": [],
   "source": [
    "train.drop('Body ID', axis=1, inplace=True)\n",
    "train.rename(columns={'articleBody': 'article',\n",
    "                      'Headline': 'headline',\n",
    "                      'Stance': 'stance'}, inplace=True)"
   ]
  },
  {
   "cell_type": "code",
   "execution_count": 25,
   "id": "e6b9e54a",
   "metadata": {
    "ExecuteTime": {
     "end_time": "2023-03-26T18:52:39.662748Z",
     "start_time": "2023-03-26T18:52:36.543303Z"
    }
   },
   "outputs": [],
   "source": [
    "train.to_csv(fnc_train, index=False)"
   ]
  },
  {
   "cell_type": "code",
   "execution_count": 26,
   "id": "7afc2371",
   "metadata": {
    "ExecuteTime": {
     "end_time": "2023-03-26T18:52:39.786467Z",
     "start_time": "2023-03-26T18:52:39.667087Z"
    }
   },
   "outputs": [],
   "source": [
    "test_b = pd.read_csv(fnc_test_bodies)\n",
    "test_s = pd.read_csv(fnc_test_stances)"
   ]
  },
  {
   "cell_type": "code",
   "execution_count": 27,
   "id": "0fd4a3c7",
   "metadata": {
    "ExecuteTime": {
     "end_time": "2023-03-26T18:52:40.528946Z",
     "start_time": "2023-03-26T18:52:40.513642Z"
    }
   },
   "outputs": [
    {
     "data": {
      "text/html": [
       "<div>\n",
       "<style scoped>\n",
       "    .dataframe tbody tr th:only-of-type {\n",
       "        vertical-align: middle;\n",
       "    }\n",
       "\n",
       "    .dataframe tbody tr th {\n",
       "        vertical-align: top;\n",
       "    }\n",
       "\n",
       "    .dataframe thead th {\n",
       "        text-align: right;\n",
       "    }\n",
       "</style>\n",
       "<table border=\"1\" class=\"dataframe\">\n",
       "  <thead>\n",
       "    <tr style=\"text-align: right;\">\n",
       "      <th></th>\n",
       "      <th>Body ID</th>\n",
       "      <th>articleBody</th>\n",
       "    </tr>\n",
       "  </thead>\n",
       "  <tbody>\n",
       "    <tr>\n",
       "      <th>0</th>\n",
       "      <td>1</td>\n",
       "      <td>Al-Sisi has denied Israeli reports stating tha...</td>\n",
       "    </tr>\n",
       "    <tr>\n",
       "      <th>1</th>\n",
       "      <td>2</td>\n",
       "      <td>A bereaved Afghan mother took revenge on the T...</td>\n",
       "    </tr>\n",
       "    <tr>\n",
       "      <th>2</th>\n",
       "      <td>3</td>\n",
       "      <td>CNBC is reporting Tesla has chosen Nevada as t...</td>\n",
       "    </tr>\n",
       "    <tr>\n",
       "      <th>3</th>\n",
       "      <td>12</td>\n",
       "      <td>A 4-inch version of the iPhone 6 is said to be...</td>\n",
       "    </tr>\n",
       "    <tr>\n",
       "      <th>4</th>\n",
       "      <td>19</td>\n",
       "      <td>GR editor’s Note\\n\\nThere are no reports in th...</td>\n",
       "    </tr>\n",
       "  </tbody>\n",
       "</table>\n",
       "</div>"
      ],
      "text/plain": [
       "   Body ID                                        articleBody\n",
       "0        1  Al-Sisi has denied Israeli reports stating tha...\n",
       "1        2  A bereaved Afghan mother took revenge on the T...\n",
       "2        3  CNBC is reporting Tesla has chosen Nevada as t...\n",
       "3       12  A 4-inch version of the iPhone 6 is said to be...\n",
       "4       19  GR editor’s Note\\n\\nThere are no reports in th..."
      ]
     },
     "execution_count": 27,
     "metadata": {},
     "output_type": "execute_result"
    }
   ],
   "source": [
    "test_b.head()"
   ]
  },
  {
   "cell_type": "code",
   "execution_count": 28,
   "id": "5c524a1b",
   "metadata": {
    "ExecuteTime": {
     "end_time": "2023-03-26T18:52:40.982463Z",
     "start_time": "2023-03-26T18:52:40.955086Z"
    }
   },
   "outputs": [
    {
     "data": {
      "text/html": [
       "<div>\n",
       "<style scoped>\n",
       "    .dataframe tbody tr th:only-of-type {\n",
       "        vertical-align: middle;\n",
       "    }\n",
       "\n",
       "    .dataframe tbody tr th {\n",
       "        vertical-align: top;\n",
       "    }\n",
       "\n",
       "    .dataframe thead th {\n",
       "        text-align: right;\n",
       "    }\n",
       "</style>\n",
       "<table border=\"1\" class=\"dataframe\">\n",
       "  <thead>\n",
       "    <tr style=\"text-align: right;\">\n",
       "      <th></th>\n",
       "      <th>Headline</th>\n",
       "      <th>Body ID</th>\n",
       "      <th>Stance</th>\n",
       "    </tr>\n",
       "  </thead>\n",
       "  <tbody>\n",
       "    <tr>\n",
       "      <th>0</th>\n",
       "      <td>Ferguson riots: Pregnant woman loses eye after...</td>\n",
       "      <td>2008</td>\n",
       "      <td>unrelated</td>\n",
       "    </tr>\n",
       "    <tr>\n",
       "      <th>1</th>\n",
       "      <td>Crazy Conservatives Are Sure a Gitmo Detainee ...</td>\n",
       "      <td>1550</td>\n",
       "      <td>unrelated</td>\n",
       "    </tr>\n",
       "    <tr>\n",
       "      <th>2</th>\n",
       "      <td>A Russian Guy Says His Justin Bieber Ringtone ...</td>\n",
       "      <td>2</td>\n",
       "      <td>unrelated</td>\n",
       "    </tr>\n",
       "    <tr>\n",
       "      <th>3</th>\n",
       "      <td>Zombie Cat: Buried Kitty Believed Dead, Meows ...</td>\n",
       "      <td>1793</td>\n",
       "      <td>unrelated</td>\n",
       "    </tr>\n",
       "    <tr>\n",
       "      <th>4</th>\n",
       "      <td>Argentina's President Adopts Boy to End Werewo...</td>\n",
       "      <td>37</td>\n",
       "      <td>unrelated</td>\n",
       "    </tr>\n",
       "  </tbody>\n",
       "</table>\n",
       "</div>"
      ],
      "text/plain": [
       "                                            Headline  Body ID     Stance\n",
       "0  Ferguson riots: Pregnant woman loses eye after...     2008  unrelated\n",
       "1  Crazy Conservatives Are Sure a Gitmo Detainee ...     1550  unrelated\n",
       "2  A Russian Guy Says His Justin Bieber Ringtone ...        2  unrelated\n",
       "3  Zombie Cat: Buried Kitty Believed Dead, Meows ...     1793  unrelated\n",
       "4  Argentina's President Adopts Boy to End Werewo...       37  unrelated"
      ]
     },
     "execution_count": 28,
     "metadata": {},
     "output_type": "execute_result"
    }
   ],
   "source": [
    "test_s.head()"
   ]
  },
  {
   "cell_type": "code",
   "execution_count": 29,
   "id": "20baf1fe",
   "metadata": {
    "ExecuteTime": {
     "end_time": "2023-03-26T18:52:41.449450Z",
     "start_time": "2023-03-26T18:52:41.429270Z"
    }
   },
   "outputs": [],
   "source": [
    "test = pd.merge(test_b, test_s, on=['Body ID'])"
   ]
  },
  {
   "cell_type": "code",
   "execution_count": 30,
   "id": "b2fe9a1f",
   "metadata": {
    "ExecuteTime": {
     "end_time": "2023-03-26T18:52:42.002302Z",
     "start_time": "2023-03-26T18:52:41.987774Z"
    }
   },
   "outputs": [
    {
     "data": {
      "text/html": [
       "<div>\n",
       "<style scoped>\n",
       "    .dataframe tbody tr th:only-of-type {\n",
       "        vertical-align: middle;\n",
       "    }\n",
       "\n",
       "    .dataframe tbody tr th {\n",
       "        vertical-align: top;\n",
       "    }\n",
       "\n",
       "    .dataframe thead th {\n",
       "        text-align: right;\n",
       "    }\n",
       "</style>\n",
       "<table border=\"1\" class=\"dataframe\">\n",
       "  <thead>\n",
       "    <tr style=\"text-align: right;\">\n",
       "      <th></th>\n",
       "      <th>Body ID</th>\n",
       "      <th>articleBody</th>\n",
       "      <th>Headline</th>\n",
       "      <th>Stance</th>\n",
       "    </tr>\n",
       "  </thead>\n",
       "  <tbody>\n",
       "    <tr>\n",
       "      <th>0</th>\n",
       "      <td>1</td>\n",
       "      <td>Al-Sisi has denied Israeli reports stating tha...</td>\n",
       "      <td>Apple installing safes in-store to protect gol...</td>\n",
       "      <td>unrelated</td>\n",
       "    </tr>\n",
       "    <tr>\n",
       "      <th>1</th>\n",
       "      <td>1</td>\n",
       "      <td>Al-Sisi has denied Israeli reports stating tha...</td>\n",
       "      <td>El-Sisi denies claims he'll give Sinai land to...</td>\n",
       "      <td>agree</td>\n",
       "    </tr>\n",
       "    <tr>\n",
       "      <th>2</th>\n",
       "      <td>1</td>\n",
       "      <td>Al-Sisi has denied Israeli reports stating tha...</td>\n",
       "      <td>Apple to keep gold Watch Editions in special i...</td>\n",
       "      <td>unrelated</td>\n",
       "    </tr>\n",
       "    <tr>\n",
       "      <th>3</th>\n",
       "      <td>1</td>\n",
       "      <td>Al-Sisi has denied Israeli reports stating tha...</td>\n",
       "      <td>Apple Stores to Keep Gold “Edition” Apple Watc...</td>\n",
       "      <td>unrelated</td>\n",
       "    </tr>\n",
       "    <tr>\n",
       "      <th>4</th>\n",
       "      <td>1</td>\n",
       "      <td>Al-Sisi has denied Israeli reports stating tha...</td>\n",
       "      <td>South Korean woman's hair 'eaten' by robot vac...</td>\n",
       "      <td>unrelated</td>\n",
       "    </tr>\n",
       "  </tbody>\n",
       "</table>\n",
       "</div>"
      ],
      "text/plain": [
       "   Body ID                                        articleBody  \\\n",
       "0        1  Al-Sisi has denied Israeli reports stating tha...   \n",
       "1        1  Al-Sisi has denied Israeli reports stating tha...   \n",
       "2        1  Al-Sisi has denied Israeli reports stating tha...   \n",
       "3        1  Al-Sisi has denied Israeli reports stating tha...   \n",
       "4        1  Al-Sisi has denied Israeli reports stating tha...   \n",
       "\n",
       "                                            Headline     Stance  \n",
       "0  Apple installing safes in-store to protect gol...  unrelated  \n",
       "1  El-Sisi denies claims he'll give Sinai land to...      agree  \n",
       "2  Apple to keep gold Watch Editions in special i...  unrelated  \n",
       "3  Apple Stores to Keep Gold “Edition” Apple Watc...  unrelated  \n",
       "4  South Korean woman's hair 'eaten' by robot vac...  unrelated  "
      ]
     },
     "execution_count": 30,
     "metadata": {},
     "output_type": "execute_result"
    }
   ],
   "source": [
    "test.head()"
   ]
  },
  {
   "cell_type": "code",
   "execution_count": 31,
   "id": "194f3acf",
   "metadata": {
    "ExecuteTime": {
     "end_time": "2023-03-26T18:52:42.550166Z",
     "start_time": "2023-03-26T18:52:42.514176Z"
    }
   },
   "outputs": [
    {
     "name": "stdout",
     "output_type": "stream",
     "text": [
      "<class 'pandas.core.frame.DataFrame'>\n",
      "Int64Index: 25413 entries, 0 to 25412\n",
      "Data columns (total 4 columns):\n",
      " #   Column       Non-Null Count  Dtype \n",
      "---  ------       --------------  ----- \n",
      " 0   Body ID      25413 non-null  int64 \n",
      " 1   articleBody  25413 non-null  object\n",
      " 2   Headline     25413 non-null  object\n",
      " 3   Stance       25413 non-null  object\n",
      "dtypes: int64(1), object(3)\n",
      "memory usage: 992.7+ KB\n"
     ]
    }
   ],
   "source": [
    "test.info()"
   ]
  },
  {
   "cell_type": "code",
   "execution_count": 32,
   "id": "86dcb8be",
   "metadata": {
    "ExecuteTime": {
     "end_time": "2023-03-26T18:52:43.433176Z",
     "start_time": "2023-03-26T18:52:43.412513Z"
    }
   },
   "outputs": [
    {
     "data": {
      "text/plain": [
       "894"
      ]
     },
     "execution_count": 32,
     "metadata": {},
     "output_type": "execute_result"
    }
   ],
   "source": [
    "test['Headline'].nunique()"
   ]
  },
  {
   "cell_type": "code",
   "execution_count": 33,
   "id": "229dd024",
   "metadata": {
    "ExecuteTime": {
     "end_time": "2023-03-26T18:52:44.509302Z",
     "start_time": "2023-03-26T18:52:44.496228Z"
    }
   },
   "outputs": [],
   "source": [
    "test.drop('Body ID', axis=1, inplace=True)\n",
    "test.rename(columns={'articleBody': 'article',\n",
    "                      'Headline': 'headline',\n",
    "                      'Stance': 'stance'}, inplace=True)"
   ]
  },
  {
   "cell_type": "code",
   "execution_count": 34,
   "id": "a0e4a930",
   "metadata": {
    "ExecuteTime": {
     "end_time": "2023-03-26T18:52:47.199614Z",
     "start_time": "2023-03-26T18:52:45.216321Z"
    }
   },
   "outputs": [],
   "source": [
    "test.to_csv(fnc_test, index=False)"
   ]
  },
  {
   "cell_type": "code",
   "execution_count": null,
   "id": "754676b4",
   "metadata": {},
   "outputs": [],
   "source": []
  }
 ],
 "metadata": {
  "kernelspec": {
   "display_name": "Python 3 (ipykernel)",
   "language": "python",
   "name": "python3"
  },
  "language_info": {
   "codemirror_mode": {
    "name": "ipython",
    "version": 3
   },
   "file_extension": ".py",
   "mimetype": "text/x-python",
   "name": "python",
   "nbconvert_exporter": "python",
   "pygments_lexer": "ipython3",
   "version": "3.10.2"
  }
 },
 "nbformat": 4,
 "nbformat_minor": 5
}
